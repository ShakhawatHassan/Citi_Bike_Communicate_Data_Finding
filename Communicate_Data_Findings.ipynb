{
 "cells": [
  {
   "cell_type": "markdown",
   "metadata": {},
   "source": [
    "# Citi Bike Data Findings"
   ]
  },
  {
   "cell_type": "markdown",
   "metadata": {},
   "source": [
    "## Shakhawat Hassan"
   ]
  },
  {
   "cell_type": "markdown",
   "metadata": {},
   "source": [
    "#### I use Citi bike data from LYFT'S website and where Citi bike operates in NYC. I have found very interesting findings below"
   ]
  },
  {
   "cell_type": "code",
   "execution_count": null,
   "metadata": {},
   "outputs": [],
   "source": [
    "from timeit import default_timer as timer\n",
    "import pandas as pd\n",
    "import numpy as np\n",
    "import seaborn as sb\n",
    "import matplotlib.pyplot as plt\n",
    "%matplotlib inline"
   ]
  },
  {
   "cell_type": "markdown",
   "metadata": {},
   "source": [
    "## Data Exploration"
   ]
  },
  {
   "cell_type": "code",
   "execution_count": 2,
   "metadata": {},
   "outputs": [],
   "source": [
    "df = pd.read_csv('2020feb_citibike.csv')"
   ]
  },
  {
   "cell_type": "code",
   "execution_count": 3,
   "metadata": {},
   "outputs": [
    {
     "data": {
      "text/plain": [
       "(22962, 15)"
      ]
     },
     "execution_count": 3,
     "metadata": {},
     "output_type": "execute_result"
    }
   ],
   "source": [
    "df.shape "
   ]
  },
  {
   "cell_type": "code",
   "execution_count": 4,
   "metadata": {},
   "outputs": [],
   "source": [
    "#22,962 rows and 15 columns"
   ]
  },
  {
   "cell_type": "code",
   "execution_count": 5,
   "metadata": {},
   "outputs": [
    {
     "data": {
      "text/plain": [
       "tripduration               0\n",
       "starttime                  0\n",
       "stoptime                   0\n",
       "start station id           0\n",
       "start station name         0\n",
       "start station latitude     0\n",
       "start station longitude    0\n",
       "end station id             0\n",
       "end station name           0\n",
       "end station latitude       0\n",
       "end station longitude      0\n",
       "bikeid                     0\n",
       "usertype                   0\n",
       "birth year                 0\n",
       "gender                     0\n",
       "dtype: int64"
      ]
     },
     "execution_count": 5,
     "metadata": {},
     "output_type": "execute_result"
    }
   ],
   "source": [
    "df.isnull().sum()       #nulls checking"
   ]
  },
  {
   "cell_type": "code",
   "execution_count": 6,
   "metadata": {},
   "outputs": [
    {
     "data": {
      "text/plain": [
       "0"
      ]
     },
     "execution_count": 6,
     "metadata": {},
     "output_type": "execute_result"
    }
   ],
   "source": [
    "df.duplicated().sum()          #There is no duplicate"
   ]
  },
  {
   "cell_type": "code",
   "execution_count": 7,
   "metadata": {},
   "outputs": [
    {
     "data": {
      "text/html": [
       "<div>\n",
       "<style scoped>\n",
       "    .dataframe tbody tr th:only-of-type {\n",
       "        vertical-align: middle;\n",
       "    }\n",
       "\n",
       "    .dataframe tbody tr th {\n",
       "        vertical-align: top;\n",
       "    }\n",
       "\n",
       "    .dataframe thead th {\n",
       "        text-align: right;\n",
       "    }\n",
       "</style>\n",
       "<table border=\"1\" class=\"dataframe\">\n",
       "  <thead>\n",
       "    <tr style=\"text-align: right;\">\n",
       "      <th></th>\n",
       "      <th>tripduration</th>\n",
       "      <th>starttime</th>\n",
       "      <th>stoptime</th>\n",
       "      <th>start station id</th>\n",
       "      <th>start station name</th>\n",
       "      <th>start station latitude</th>\n",
       "      <th>start station longitude</th>\n",
       "      <th>end station id</th>\n",
       "      <th>end station name</th>\n",
       "      <th>end station latitude</th>\n",
       "      <th>end station longitude</th>\n",
       "      <th>bikeid</th>\n",
       "      <th>usertype</th>\n",
       "      <th>birth year</th>\n",
       "      <th>gender</th>\n",
       "    </tr>\n",
       "  </thead>\n",
       "  <tbody>\n",
       "    <tr>\n",
       "      <th>22957</th>\n",
       "      <td>262</td>\n",
       "      <td>2020-02-29 23:40:53.1620</td>\n",
       "      <td>2020-02-29 23:45:15.3180</td>\n",
       "      <td>3639</td>\n",
       "      <td>Harborside</td>\n",
       "      <td>40.719252</td>\n",
       "      <td>-74.034234</td>\n",
       "      <td>3214</td>\n",
       "      <td>Essex Light Rail</td>\n",
       "      <td>40.712774</td>\n",
       "      <td>-74.036486</td>\n",
       "      <td>42467</td>\n",
       "      <td>Subscriber</td>\n",
       "      <td>1967</td>\n",
       "      <td>1</td>\n",
       "    </tr>\n",
       "    <tr>\n",
       "      <th>22958</th>\n",
       "      <td>216</td>\n",
       "      <td>2020-02-29 23:41:01.3350</td>\n",
       "      <td>2020-02-29 23:44:38.0350</td>\n",
       "      <td>3186</td>\n",
       "      <td>Grove St PATH</td>\n",
       "      <td>40.719586</td>\n",
       "      <td>-74.043117</td>\n",
       "      <td>3483</td>\n",
       "      <td>Montgomery St</td>\n",
       "      <td>40.719420</td>\n",
       "      <td>-74.050990</td>\n",
       "      <td>42377</td>\n",
       "      <td>Subscriber</td>\n",
       "      <td>1958</td>\n",
       "      <td>1</td>\n",
       "    </tr>\n",
       "    <tr>\n",
       "      <th>22959</th>\n",
       "      <td>101</td>\n",
       "      <td>2020-02-29 23:45:22.1700</td>\n",
       "      <td>2020-02-29 23:47:03.2970</td>\n",
       "      <td>3214</td>\n",
       "      <td>Essex Light Rail</td>\n",
       "      <td>40.712774</td>\n",
       "      <td>-74.036486</td>\n",
       "      <td>3681</td>\n",
       "      <td>Grand St</td>\n",
       "      <td>40.715178</td>\n",
       "      <td>-74.037683</td>\n",
       "      <td>42485</td>\n",
       "      <td>Subscriber</td>\n",
       "      <td>1967</td>\n",
       "      <td>1</td>\n",
       "    </tr>\n",
       "    <tr>\n",
       "      <th>22960</th>\n",
       "      <td>279</td>\n",
       "      <td>2020-02-29 23:47:56.8380</td>\n",
       "      <td>2020-02-29 23:52:36.6400</td>\n",
       "      <td>3186</td>\n",
       "      <td>Grove St PATH</td>\n",
       "      <td>40.719586</td>\n",
       "      <td>-74.043117</td>\n",
       "      <td>3483</td>\n",
       "      <td>Montgomery St</td>\n",
       "      <td>40.719420</td>\n",
       "      <td>-74.050990</td>\n",
       "      <td>42531</td>\n",
       "      <td>Subscriber</td>\n",
       "      <td>1988</td>\n",
       "      <td>1</td>\n",
       "    </tr>\n",
       "    <tr>\n",
       "      <th>22961</th>\n",
       "      <td>212</td>\n",
       "      <td>2020-02-29 23:49:18.4510</td>\n",
       "      <td>2020-02-29 23:52:50.7490</td>\n",
       "      <td>3184</td>\n",
       "      <td>Paulus Hook</td>\n",
       "      <td>40.714145</td>\n",
       "      <td>-74.033552</td>\n",
       "      <td>3276</td>\n",
       "      <td>Marin Light Rail</td>\n",
       "      <td>40.714584</td>\n",
       "      <td>-74.042817</td>\n",
       "      <td>42385</td>\n",
       "      <td>Subscriber</td>\n",
       "      <td>1967</td>\n",
       "      <td>1</td>\n",
       "    </tr>\n",
       "  </tbody>\n",
       "</table>\n",
       "</div>"
      ],
      "text/plain": [
       "       tripduration                 starttime                  stoptime  \\\n",
       "22957           262  2020-02-29 23:40:53.1620  2020-02-29 23:45:15.3180   \n",
       "22958           216  2020-02-29 23:41:01.3350  2020-02-29 23:44:38.0350   \n",
       "22959           101  2020-02-29 23:45:22.1700  2020-02-29 23:47:03.2970   \n",
       "22960           279  2020-02-29 23:47:56.8380  2020-02-29 23:52:36.6400   \n",
       "22961           212  2020-02-29 23:49:18.4510  2020-02-29 23:52:50.7490   \n",
       "\n",
       "       start station id start station name  start station latitude  \\\n",
       "22957              3639         Harborside               40.719252   \n",
       "22958              3186      Grove St PATH               40.719586   \n",
       "22959              3214   Essex Light Rail               40.712774   \n",
       "22960              3186      Grove St PATH               40.719586   \n",
       "22961              3184        Paulus Hook               40.714145   \n",
       "\n",
       "       start station longitude  end station id  end station name  \\\n",
       "22957               -74.034234            3214  Essex Light Rail   \n",
       "22958               -74.043117            3483     Montgomery St   \n",
       "22959               -74.036486            3681          Grand St   \n",
       "22960               -74.043117            3483     Montgomery St   \n",
       "22961               -74.033552            3276  Marin Light Rail   \n",
       "\n",
       "       end station latitude  end station longitude  bikeid    usertype  \\\n",
       "22957             40.712774             -74.036486   42467  Subscriber   \n",
       "22958             40.719420             -74.050990   42377  Subscriber   \n",
       "22959             40.715178             -74.037683   42485  Subscriber   \n",
       "22960             40.719420             -74.050990   42531  Subscriber   \n",
       "22961             40.714584             -74.042817   42385  Subscriber   \n",
       "\n",
       "       birth year  gender  \n",
       "22957        1967       1  \n",
       "22958        1958       1  \n",
       "22959        1967       1  \n",
       "22960        1988       1  \n",
       "22961        1967       1  "
      ]
     },
     "execution_count": 7,
     "metadata": {},
     "output_type": "execute_result"
    }
   ],
   "source": [
    "df.tail()"
   ]
  },
  {
   "cell_type": "code",
   "execution_count": 8,
   "metadata": {},
   "outputs": [
    {
     "data": {
      "text/plain": [
       "22962"
      ]
     },
     "execution_count": 8,
     "metadata": {},
     "output_type": "execute_result"
    }
   ],
   "source": [
    "df['bikeid'].count()"
   ]
  },
  {
   "cell_type": "markdown",
   "metadata": {},
   "source": [
    "#### 22962 users who rented citi bikes in February 2020"
   ]
  },
  {
   "cell_type": "raw",
   "metadata": {},
   "source": [
    "We know, \n",
    "Trip Duration: (seconds)\n",
    "User Type (Customer = 24-hour pass or 3-day pass user; Subscriber = Annual Member)\n",
    "Gender (Zero=unknown; 1=male; 2=female)"
   ]
  },
  {
   "cell_type": "code",
   "execution_count": 10,
   "metadata": {},
   "outputs": [
    {
     "data": {
      "text/plain": [
       "4994     1495458\n",
       "4860      345608\n",
       "19204     290697\n",
       "6293      245410\n",
       "12027     221936\n",
       "Name: tripduration, dtype: int64"
      ]
     },
     "execution_count": 10,
     "metadata": {},
     "output_type": "execute_result"
    }
   ],
   "source": [
    "df['tripduration'].nlargest() "
   ]
  },
  {
   "cell_type": "code",
   "execution_count": 11,
   "metadata": {},
   "outputs": [
    {
     "name": "stdout",
     "output_type": "stream",
     "text": [
      "<class 'pandas.core.frame.DataFrame'>\n",
      "RangeIndex: 22962 entries, 0 to 22961\n",
      "Data columns (total 15 columns):\n",
      " #   Column                   Non-Null Count  Dtype  \n",
      "---  ------                   --------------  -----  \n",
      " 0   tripduration             22962 non-null  int64  \n",
      " 1   starttime                22962 non-null  object \n",
      " 2   stoptime                 22962 non-null  object \n",
      " 3   start station id         22962 non-null  int64  \n",
      " 4   start station name       22962 non-null  object \n",
      " 5   start station latitude   22962 non-null  float64\n",
      " 6   start station longitude  22962 non-null  float64\n",
      " 7   end station id           22962 non-null  int64  \n",
      " 8   end station name         22962 non-null  object \n",
      " 9   end station latitude     22962 non-null  float64\n",
      " 10  end station longitude    22962 non-null  float64\n",
      " 11  bikeid                   22962 non-null  int64  \n",
      " 12  usertype                 22962 non-null  object \n",
      " 13  birth year               22962 non-null  int64  \n",
      " 14  gender                   22962 non-null  int64  \n",
      "dtypes: float64(4), int64(6), object(5)\n",
      "memory usage: 2.6+ MB\n"
     ]
    }
   ],
   "source": [
    "df.info() #data type checking"
   ]
  },
  {
   "cell_type": "code",
   "execution_count": 12,
   "metadata": {},
   "outputs": [
    {
     "data": {
      "text/plain": [
       "tripduration                 665.692927\n",
       "start station id            3307.954446\n",
       "start station latitude        40.722765\n",
       "start station longitude      -74.046948\n",
       "end station id              3308.074819\n",
       "end station latitude          40.722323\n",
       "end station longitude        -74.046393\n",
       "bikeid                     41376.724153\n",
       "birth year                  1981.129997\n",
       "gender                         1.195976\n",
       "dtype: float64"
      ]
     },
     "execution_count": 12,
     "metadata": {},
     "output_type": "execute_result"
    }
   ],
   "source": [
    "df.mean() #mean checking"
   ]
  },
  {
   "cell_type": "code",
   "execution_count": 13,
   "metadata": {},
   "outputs": [
    {
     "data": {
      "text/html": [
       "<div>\n",
       "<style scoped>\n",
       "    .dataframe tbody tr th:only-of-type {\n",
       "        vertical-align: middle;\n",
       "    }\n",
       "\n",
       "    .dataframe tbody tr th {\n",
       "        vertical-align: top;\n",
       "    }\n",
       "\n",
       "    .dataframe thead th {\n",
       "        text-align: right;\n",
       "    }\n",
       "</style>\n",
       "<table border=\"1\" class=\"dataframe\">\n",
       "  <thead>\n",
       "    <tr style=\"text-align: right;\">\n",
       "      <th></th>\n",
       "      <th>tripduration</th>\n",
       "      <th>start station id</th>\n",
       "      <th>start station latitude</th>\n",
       "      <th>start station longitude</th>\n",
       "      <th>end station id</th>\n",
       "      <th>end station latitude</th>\n",
       "      <th>end station longitude</th>\n",
       "      <th>bikeid</th>\n",
       "      <th>birth year</th>\n",
       "      <th>gender</th>\n",
       "    </tr>\n",
       "  </thead>\n",
       "  <tbody>\n",
       "    <tr>\n",
       "      <th>count</th>\n",
       "      <td>2.296200e+04</td>\n",
       "      <td>22962.000000</td>\n",
       "      <td>22962.000000</td>\n",
       "      <td>22962.000000</td>\n",
       "      <td>22962.000000</td>\n",
       "      <td>22962.000000</td>\n",
       "      <td>22962.000000</td>\n",
       "      <td>22962.000000</td>\n",
       "      <td>22962.000000</td>\n",
       "      <td>22962.000000</td>\n",
       "    </tr>\n",
       "    <tr>\n",
       "      <th>mean</th>\n",
       "      <td>6.656929e+02</td>\n",
       "      <td>3307.954446</td>\n",
       "      <td>40.722765</td>\n",
       "      <td>-74.046948</td>\n",
       "      <td>3308.074819</td>\n",
       "      <td>40.722323</td>\n",
       "      <td>-74.046393</td>\n",
       "      <td>41376.724153</td>\n",
       "      <td>1981.129997</td>\n",
       "      <td>1.195976</td>\n",
       "    </tr>\n",
       "    <tr>\n",
       "      <th>std</th>\n",
       "      <td>1.092407e+04</td>\n",
       "      <td>184.877308</td>\n",
       "      <td>0.006696</td>\n",
       "      <td>0.011348</td>\n",
       "      <td>189.016475</td>\n",
       "      <td>0.006509</td>\n",
       "      <td>0.011213</td>\n",
       "      <td>3551.166582</td>\n",
       "      <td>10.300961</td>\n",
       "      <td>0.494564</td>\n",
       "    </tr>\n",
       "    <tr>\n",
       "      <th>min</th>\n",
       "      <td>6.100000e+01</td>\n",
       "      <td>3184.000000</td>\n",
       "      <td>40.711130</td>\n",
       "      <td>-74.083639</td>\n",
       "      <td>83.000000</td>\n",
       "      <td>40.683826</td>\n",
       "      <td>-74.083639</td>\n",
       "      <td>17273.000000</td>\n",
       "      <td>1888.000000</td>\n",
       "      <td>0.000000</td>\n",
       "    </tr>\n",
       "    <tr>\n",
       "      <th>25%</th>\n",
       "      <td>2.260000e+02</td>\n",
       "      <td>3195.000000</td>\n",
       "      <td>40.718355</td>\n",
       "      <td>-74.050656</td>\n",
       "      <td>3194.000000</td>\n",
       "      <td>40.718355</td>\n",
       "      <td>-74.050444</td>\n",
       "      <td>42192.000000</td>\n",
       "      <td>1976.000000</td>\n",
       "      <td>1.000000</td>\n",
       "    </tr>\n",
       "    <tr>\n",
       "      <th>50%</th>\n",
       "      <td>3.295000e+02</td>\n",
       "      <td>3211.000000</td>\n",
       "      <td>40.721630</td>\n",
       "      <td>-74.044247</td>\n",
       "      <td>3211.000000</td>\n",
       "      <td>40.721124</td>\n",
       "      <td>-74.043117</td>\n",
       "      <td>42325.000000</td>\n",
       "      <td>1983.000000</td>\n",
       "      <td>1.000000</td>\n",
       "    </tr>\n",
       "    <tr>\n",
       "      <th>75%</th>\n",
       "      <td>5.170000e+02</td>\n",
       "      <td>3278.000000</td>\n",
       "      <td>40.727224</td>\n",
       "      <td>-74.038526</td>\n",
       "      <td>3278.000000</td>\n",
       "      <td>40.726012</td>\n",
       "      <td>-74.038051</td>\n",
       "      <td>42458.000000</td>\n",
       "      <td>1989.000000</td>\n",
       "      <td>1.000000</td>\n",
       "    </tr>\n",
       "    <tr>\n",
       "      <th>max</th>\n",
       "      <td>1.495458e+06</td>\n",
       "      <td>3792.000000</td>\n",
       "      <td>40.748716</td>\n",
       "      <td>-74.032108</td>\n",
       "      <td>3792.000000</td>\n",
       "      <td>40.748716</td>\n",
       "      <td>-73.976323</td>\n",
       "      <td>42636.000000</td>\n",
       "      <td>2003.000000</td>\n",
       "      <td>2.000000</td>\n",
       "    </tr>\n",
       "  </tbody>\n",
       "</table>\n",
       "</div>"
      ],
      "text/plain": [
       "       tripduration  start station id  start station latitude  \\\n",
       "count  2.296200e+04      22962.000000            22962.000000   \n",
       "mean   6.656929e+02       3307.954446               40.722765   \n",
       "std    1.092407e+04        184.877308                0.006696   \n",
       "min    6.100000e+01       3184.000000               40.711130   \n",
       "25%    2.260000e+02       3195.000000               40.718355   \n",
       "50%    3.295000e+02       3211.000000               40.721630   \n",
       "75%    5.170000e+02       3278.000000               40.727224   \n",
       "max    1.495458e+06       3792.000000               40.748716   \n",
       "\n",
       "       start station longitude  end station id  end station latitude  \\\n",
       "count             22962.000000    22962.000000          22962.000000   \n",
       "mean                -74.046948     3308.074819             40.722323   \n",
       "std                   0.011348      189.016475              0.006509   \n",
       "min                 -74.083639       83.000000             40.683826   \n",
       "25%                 -74.050656     3194.000000             40.718355   \n",
       "50%                 -74.044247     3211.000000             40.721124   \n",
       "75%                 -74.038526     3278.000000             40.726012   \n",
       "max                 -74.032108     3792.000000             40.748716   \n",
       "\n",
       "       end station longitude        bikeid    birth year        gender  \n",
       "count           22962.000000  22962.000000  22962.000000  22962.000000  \n",
       "mean              -74.046393  41376.724153   1981.129997      1.195976  \n",
       "std                 0.011213   3551.166582     10.300961      0.494564  \n",
       "min               -74.083639  17273.000000   1888.000000      0.000000  \n",
       "25%               -74.050444  42192.000000   1976.000000      1.000000  \n",
       "50%               -74.043117  42325.000000   1983.000000      1.000000  \n",
       "75%               -74.038051  42458.000000   1989.000000      1.000000  \n",
       "max               -73.976323  42636.000000   2003.000000      2.000000  "
      ]
     },
     "execution_count": 13,
     "metadata": {},
     "output_type": "execute_result"
    }
   ],
   "source": [
    "df.describe() #stats checking"
   ]
  },
  {
   "cell_type": "code",
   "execution_count": 14,
   "metadata": {},
   "outputs": [],
   "source": [
    "# 'start station id' , 'end station id', bikeid, should to be string, \"birth year' is timedate, 'gender' is categorical"
   ]
  },
  {
   "cell_type": "code",
   "execution_count": 15,
   "metadata": {},
   "outputs": [
    {
     "data": {
      "text/plain": [
       "Grove St PATH                 2328\n",
       "Sip Ave                       1402\n",
       "Hamilton Park                 1202\n",
       "Harborside                    1058\n",
       "Newport PATH                   978\n",
       "Columbus Dr at Exchange Pl     922\n",
       "Marin Light Rail               746\n",
       "City Hall                      683\n",
       "Newport Pkwy                   657\n",
       "Brunswick & 6th                654\n",
       "Newark Ave                     631\n",
       "McGinley Square                531\n",
       "Jersey & 3rd                   526\n",
       "Monmouth and 6th               521\n",
       "Manila & 1st                   517\n",
       "Name: start station name, dtype: int64"
      ]
     },
     "execution_count": 15,
     "metadata": {},
     "output_type": "execute_result"
    }
   ],
   "source": [
    "top_start_station = df['start station name'].value_counts().head(15)\n",
    "top_start_station"
   ]
  },
  {
   "cell_type": "markdown",
   "metadata": {},
   "source": [
    "Top 3 start stations are Grove St PATH, Sip Ave, and Hamilton Park."
   ]
  },
  {
   "cell_type": "code",
   "execution_count": 16,
   "metadata": {},
   "outputs": [
    {
     "data": {
      "text/plain": [
       "Grove St PATH                 3109\n",
       "Sip Ave                       1342\n",
       "Harborside                    1087\n",
       "Hamilton Park                 1051\n",
       "Columbus Dr at Exchange Pl    1003\n",
       "Newport PATH                   964\n",
       "Marin Light Rail               716\n",
       "City Hall                      708\n",
       "Newport Pkwy                   659\n",
       "Newark Ave                     648\n",
       "Manila & 1st                   565\n",
       "Warren St                      556\n",
       "Jersey & 3rd                   528\n",
       "Columbus Drive                 522\n",
       "Washington St                  499\n",
       "Name: end station name, dtype: int64"
      ]
     },
     "execution_count": 16,
     "metadata": {},
     "output_type": "execute_result"
    }
   ],
   "source": [
    "top_end_station = df['end station name'].value_counts().head(15)\n",
    "top_end_station"
   ]
  },
  {
   "cell_type": "markdown",
   "metadata": {},
   "source": [
    "Top 3 end stations are Grove St PATH, Sip Ave, and Harborside."
   ]
  },
  {
   "cell_type": "code",
   "execution_count": 17,
   "metadata": {},
   "outputs": [
    {
     "data": {
      "text/plain": [
       "tripduration               10924.072660\n",
       "start station id             184.877308\n",
       "start station latitude         0.006696\n",
       "start station longitude        0.011348\n",
       "end station id               189.016475\n",
       "end station latitude           0.006509\n",
       "end station longitude          0.011213\n",
       "bikeid                      3551.166582\n",
       "birth year                    10.300961\n",
       "gender                         0.494564\n",
       "dtype: float64"
      ]
     },
     "execution_count": 17,
     "metadata": {},
     "output_type": "execute_result"
    }
   ],
   "source": [
    "df.std() #standard deviation"
   ]
  },
  {
   "cell_type": "code",
   "execution_count": 18,
   "metadata": {},
   "outputs": [
    {
     "data": {
      "text/plain": [
       "array([[<matplotlib.axes._subplots.AxesSubplot object at 0x0000020D25021CD0>,\n",
       "        <matplotlib.axes._subplots.AxesSubplot object at 0x0000020D24B45730>,\n",
       "        <matplotlib.axes._subplots.AxesSubplot object at 0x0000020D24B59F70>],\n",
       "       [<matplotlib.axes._subplots.AxesSubplot object at 0x0000020D24AFF820>,\n",
       "        <matplotlib.axes._subplots.AxesSubplot object at 0x0000020D24829E50>,\n",
       "        <matplotlib.axes._subplots.AxesSubplot object at 0x0000020D2484F8E0>],\n",
       "       [<matplotlib.axes._subplots.AxesSubplot object at 0x0000020D2485C7F0>,\n",
       "        <matplotlib.axes._subplots.AxesSubplot object at 0x0000020D248940D0>,\n",
       "        <matplotlib.axes._subplots.AxesSubplot object at 0x0000020D248E5FD0>],\n",
       "       [<matplotlib.axes._subplots.AxesSubplot object at 0x0000020D2490EA60>,\n",
       "        <matplotlib.axes._subplots.AxesSubplot object at 0x0000020D2494F100>,\n",
       "        <matplotlib.axes._subplots.AxesSubplot object at 0x0000020D2494F3A0>]],\n",
       "      dtype=object)"
      ]
     },
     "execution_count": 18,
     "metadata": {},
     "output_type": "execute_result"
    },
    {
     "data": {
      "image/png": "[encoded data removed]",
      "text/plain": [
       "<Figure size 432x288 with 12 Axes>"
      ]
     },
     "metadata": {
      "needs_background": "light"
     },
     "output_type": "display_data"
    }
   ],
   "source": [
    "df.hist()"
   ]
  },
  {
   "cell_type": "markdown",
   "metadata": {},
   "source": [
    "### Exploratory Analysis"
   ]
  },
  {
   "cell_type": "markdown",
   "metadata": {},
   "source": [
    "There are 22,962 users who rented Citi bikes in February 2020. The highest trip was 1,495,458 secs and it was taken by the bike id of 42228. The average trip duration is 665 seconds. Top 3 start stations are Grove St PATH, Sip Ave, and Hamilton Park. Top 3 end stations are Grove St PATH, Sip Ave, and Harborside. Some data types should be cleaned. \n"
   ]
  },
  {
   "cell_type": "markdown",
   "metadata": {},
   "source": [
    "## Data Wrangling"
   ]
  },
  {
   "cell_type": "code",
   "execution_count": 19,
   "metadata": {},
   "outputs": [
    {
     "name": "stdout",
     "output_type": "stream",
     "text": [
      "<class 'pandas.core.frame.DataFrame'>\n",
      "RangeIndex: 22962 entries, 0 to 22961\n",
      "Data columns (total 15 columns):\n",
      " #   Column                   Non-Null Count  Dtype  \n",
      "---  ------                   --------------  -----  \n",
      " 0   tripduration             22962 non-null  int64  \n",
      " 1   starttime                22962 non-null  object \n",
      " 2   stoptime                 22962 non-null  object \n",
      " 3   start station id         22962 non-null  int64  \n",
      " 4   start station name       22962 non-null  object \n",
      " 5   start station latitude   22962 non-null  float64\n",
      " 6   start station longitude  22962 non-null  float64\n",
      " 7   end station id           22962 non-null  int64  \n",
      " 8   end station name         22962 non-null  object \n",
      " 9   end station latitude     22962 non-null  float64\n",
      " 10  end station longitude    22962 non-null  float64\n",
      " 11  bikeid                   22962 non-null  int64  \n",
      " 12  usertype                 22962 non-null  object \n",
      " 13  birth year               22962 non-null  int64  \n",
      " 14  gender                   22962 non-null  int64  \n",
      "dtypes: float64(4), int64(6), object(5)\n",
      "memory usage: 2.6+ MB\n"
     ]
    }
   ],
   "source": [
    "df.info()"
   ]
  },
  {
   "cell_type": "code",
   "execution_count": 20,
   "metadata": {},
   "outputs": [
    {
     "data": {
      "text/html": [
       "<div>\n",
       "<style scoped>\n",
       "    .dataframe tbody tr th:only-of-type {\n",
       "        vertical-align: middle;\n",
       "    }\n",
       "\n",
       "    .dataframe tbody tr th {\n",
       "        vertical-align: top;\n",
       "    }\n",
       "\n",
       "    .dataframe thead th {\n",
       "        text-align: right;\n",
       "    }\n",
       "</style>\n",
       "<table border=\"1\" class=\"dataframe\">\n",
       "  <thead>\n",
       "    <tr style=\"text-align: right;\">\n",
       "      <th></th>\n",
       "      <th>tripduration</th>\n",
       "      <th>starttime</th>\n",
       "      <th>stoptime</th>\n",
       "      <th>start station id</th>\n",
       "      <th>start station name</th>\n",
       "      <th>start station latitude</th>\n",
       "      <th>start station longitude</th>\n",
       "      <th>end station id</th>\n",
       "      <th>end station name</th>\n",
       "      <th>end station latitude</th>\n",
       "      <th>end station longitude</th>\n",
       "      <th>bikeid</th>\n",
       "      <th>usertype</th>\n",
       "      <th>birth year</th>\n",
       "      <th>gender</th>\n",
       "    </tr>\n",
       "  </thead>\n",
       "  <tbody>\n",
       "    <tr>\n",
       "      <th>0</th>\n",
       "      <td>841</td>\n",
       "      <td>2020-02-01 00:02:13.7650</td>\n",
       "      <td>2020-02-01 00:16:15.4720</td>\n",
       "      <td>3199</td>\n",
       "      <td>Newport Pkwy</td>\n",
       "      <td>40.728745</td>\n",
       "      <td>-74.032108</td>\n",
       "      <td>3213</td>\n",
       "      <td>Van Vorst Park</td>\n",
       "      <td>40.718489</td>\n",
       "      <td>-74.047727</td>\n",
       "      <td>42217</td>\n",
       "      <td>Subscriber</td>\n",
       "      <td>1980</td>\n",
       "      <td>1</td>\n",
       "    </tr>\n",
       "    <tr>\n",
       "      <th>1</th>\n",
       "      <td>206</td>\n",
       "      <td>2020-02-01 00:16:11.3850</td>\n",
       "      <td>2020-02-01 00:19:37.4460</td>\n",
       "      <td>3273</td>\n",
       "      <td>Manila &amp; 1st</td>\n",
       "      <td>40.721651</td>\n",
       "      <td>-74.042884</td>\n",
       "      <td>3639</td>\n",
       "      <td>Harborside</td>\n",
       "      <td>40.719252</td>\n",
       "      <td>-74.034234</td>\n",
       "      <td>42160</td>\n",
       "      <td>Subscriber</td>\n",
       "      <td>1990</td>\n",
       "      <td>1</td>\n",
       "    </tr>\n",
       "    <tr>\n",
       "      <th>2</th>\n",
       "      <td>859</td>\n",
       "      <td>2020-02-01 00:23:22.1090</td>\n",
       "      <td>2020-02-01 00:37:41.5060</td>\n",
       "      <td>3185</td>\n",
       "      <td>City Hall</td>\n",
       "      <td>40.717733</td>\n",
       "      <td>-74.043845</td>\n",
       "      <td>3268</td>\n",
       "      <td>Lafayette Park</td>\n",
       "      <td>40.713464</td>\n",
       "      <td>-74.062859</td>\n",
       "      <td>42204</td>\n",
       "      <td>Customer</td>\n",
       "      <td>1991</td>\n",
       "      <td>1</td>\n",
       "    </tr>\n",
       "    <tr>\n",
       "      <th>3</th>\n",
       "      <td>693</td>\n",
       "      <td>2020-02-01 00:25:14.5170</td>\n",
       "      <td>2020-02-01 00:36:48.0280</td>\n",
       "      <td>3185</td>\n",
       "      <td>City Hall</td>\n",
       "      <td>40.717733</td>\n",
       "      <td>-74.043845</td>\n",
       "      <td>3277</td>\n",
       "      <td>Communipaw &amp; Berry Lane</td>\n",
       "      <td>40.714358</td>\n",
       "      <td>-74.066611</td>\n",
       "      <td>42165</td>\n",
       "      <td>Subscriber</td>\n",
       "      <td>1987</td>\n",
       "      <td>1</td>\n",
       "    </tr>\n",
       "    <tr>\n",
       "      <th>4</th>\n",
       "      <td>1473</td>\n",
       "      <td>2020-02-01 00:32:30.5050</td>\n",
       "      <td>2020-02-01 00:57:04.3740</td>\n",
       "      <td>3192</td>\n",
       "      <td>Liberty Light Rail</td>\n",
       "      <td>40.711242</td>\n",
       "      <td>-74.055701</td>\n",
       "      <td>3639</td>\n",
       "      <td>Harborside</td>\n",
       "      <td>40.719252</td>\n",
       "      <td>-74.034234</td>\n",
       "      <td>26156</td>\n",
       "      <td>Customer</td>\n",
       "      <td>1969</td>\n",
       "      <td>0</td>\n",
       "    </tr>\n",
       "  </tbody>\n",
       "</table>\n",
       "</div>"
      ],
      "text/plain": [
       "   tripduration                 starttime                  stoptime  \\\n",
       "0           841  2020-02-01 00:02:13.7650  2020-02-01 00:16:15.4720   \n",
       "1           206  2020-02-01 00:16:11.3850  2020-02-01 00:19:37.4460   \n",
       "2           859  2020-02-01 00:23:22.1090  2020-02-01 00:37:41.5060   \n",
       "3           693  2020-02-01 00:25:14.5170  2020-02-01 00:36:48.0280   \n",
       "4          1473  2020-02-01 00:32:30.5050  2020-02-01 00:57:04.3740   \n",
       "\n",
       "   start station id  start station name  start station latitude  \\\n",
       "0              3199        Newport Pkwy               40.728745   \n",
       "1              3273        Manila & 1st               40.721651   \n",
       "2              3185           City Hall               40.717733   \n",
       "3              3185           City Hall               40.717733   \n",
       "4              3192  Liberty Light Rail               40.711242   \n",
       "\n",
       "   start station longitude  end station id         end station name  \\\n",
       "0               -74.032108            3213           Van Vorst Park   \n",
       "1               -74.042884            3639               Harborside   \n",
       "2               -74.043845            3268           Lafayette Park   \n",
       "3               -74.043845            3277  Communipaw & Berry Lane   \n",
       "4               -74.055701            3639               Harborside   \n",
       "\n",
       "   end station latitude  end station longitude  bikeid    usertype  \\\n",
       "0             40.718489             -74.047727   42217  Subscriber   \n",
       "1             40.719252             -74.034234   42160  Subscriber   \n",
       "2             40.713464             -74.062859   42204    Customer   \n",
       "3             40.714358             -74.066611   42165  Subscriber   \n",
       "4             40.719252             -74.034234   26156    Customer   \n",
       "\n",
       "   birth year  gender  \n",
       "0        1980       1  \n",
       "1        1990       1  \n",
       "2        1991       1  \n",
       "3        1987       1  \n",
       "4        1969       0  "
      ]
     },
     "execution_count": 20,
     "metadata": {},
     "output_type": "execute_result"
    }
   ],
   "source": [
    "df.head()"
   ]
  },
  {
   "cell_type": "code",
   "execution_count": 21,
   "metadata": {},
   "outputs": [],
   "source": [
    "#drop unnecessary columns\n",
    "df.drop(['start station id', 'start station latitude',\n",
    "         'start station longitude', 'end station id', 'end station latitude', 'end station longitude'], axis =1, inplace=True)"
   ]
  },
  {
   "cell_type": "code",
   "execution_count": 22,
   "metadata": {},
   "outputs": [],
   "source": [
    "#Change columns' names\n",
    "df.rename(columns={'tripduration': 'trip_duration' , 'starttime': 'start_time', \n",
    "                   'start station name':'start_station_name', 'end station name':'end_station_name',\n",
    "                   'stoptime': 'stop_time', 'bikeid':'bike_id', 'usertype':'user_type', 'birth year': 'birth_year'}, inplace =True)"
   ]
  },
  {
   "cell_type": "code",
   "execution_count": 23,
   "metadata": {},
   "outputs": [
    {
     "data": {
      "text/plain": [
       "Index(['trip_duration', 'start_time', 'stop_time', 'start_station_name',\n",
       "       'end_station_name', 'bike_id', 'user_type', 'birth_year', 'gender'],\n",
       "      dtype='object')"
      ]
     },
     "execution_count": 23,
     "metadata": {},
     "output_type": "execute_result"
    }
   ],
   "source": [
    "df.columns"
   ]
  },
  {
   "cell_type": "code",
   "execution_count": 24,
   "metadata": {},
   "outputs": [],
   "source": [
    "# fixing data types"
   ]
  },
  {
   "cell_type": "code",
   "execution_count": 25,
   "metadata": {},
   "outputs": [],
   "source": [
    "# string to datetime\n",
    "df['start_time'] = pd.to_datetime(df['start_time'].str.strip())\n",
    "df['stop_time'] = pd.to_datetime(df['stop_time'].str.strip())"
   ]
  },
  {
   "cell_type": "code",
   "execution_count": 42,
   "metadata": {},
   "outputs": [],
   "source": [
    "# integer to object\n",
    "df['bike_id'] = df['bike_id'].apply(str)"
   ]
  },
  {
   "cell_type": "code",
   "execution_count": 43,
   "metadata": {},
   "outputs": [],
   "source": [
    "# integer to category\n",
    "df['gender'] = df['gender'].astype('category')"
   ]
  },
  {
   "cell_type": "code",
   "execution_count": 44,
   "metadata": {},
   "outputs": [
    {
     "name": "stdout",
     "output_type": "stream",
     "text": [
      "<class 'pandas.core.frame.DataFrame'>\n",
      "RangeIndex: 22962 entries, 0 to 22961\n",
      "Data columns (total 9 columns):\n",
      " #   Column              Non-Null Count  Dtype         \n",
      "---  ------              --------------  -----         \n",
      " 0   trip_duration       22962 non-null  int64         \n",
      " 1   start_time          22962 non-null  datetime64[ns]\n",
      " 2   stop_time           22962 non-null  datetime64[ns]\n",
      " 3   start_station_name  22962 non-null  object        \n",
      " 4   end_station_name    22962 non-null  object        \n",
      " 5   bike_id             22962 non-null  object        \n",
      " 6   user_type           22962 non-null  object        \n",
      " 7   birth_year          22962 non-null  int64         \n",
      " 8   gender              22962 non-null  category      \n",
      "dtypes: category(1), datetime64[ns](2), int64(2), object(4)\n",
      "memory usage: 1.4+ MB\n"
     ]
    }
   ],
   "source": [
    "df.info()"
   ]
  },
  {
   "cell_type": "markdown",
   "metadata": {},
   "source": [
    "## Data Wrangling Summary\n",
    "- drop unnecessary columns\n",
    "### Fixing data types\n",
    "- string to datetime\n",
    "- integer to object\n",
    "- integer to category\n"
   ]
  },
  {
   "cell_type": "markdown",
   "metadata": {},
   "source": [
    "## Data Explanatory"
   ]
  },
  {
   "cell_type": "code",
   "execution_count": 29,
   "metadata": {},
   "outputs": [
    {
     "data": {
      "text/html": [
       "<div>\n",
       "<style scoped>\n",
       "    .dataframe tbody tr th:only-of-type {\n",
       "        vertical-align: middle;\n",
       "    }\n",
       "\n",
       "    .dataframe tbody tr th {\n",
       "        vertical-align: top;\n",
       "    }\n",
       "\n",
       "    .dataframe thead th {\n",
       "        text-align: right;\n",
       "    }\n",
       "</style>\n",
       "<table border=\"1\" class=\"dataframe\">\n",
       "  <thead>\n",
       "    <tr style=\"text-align: right;\">\n",
       "      <th></th>\n",
       "      <th>trip_duration</th>\n",
       "      <th>birth_year</th>\n",
       "    </tr>\n",
       "  </thead>\n",
       "  <tbody>\n",
       "    <tr>\n",
       "      <th>count</th>\n",
       "      <td>2.296200e+04</td>\n",
       "      <td>22962.000000</td>\n",
       "    </tr>\n",
       "    <tr>\n",
       "      <th>mean</th>\n",
       "      <td>6.656929e+02</td>\n",
       "      <td>1981.129997</td>\n",
       "    </tr>\n",
       "    <tr>\n",
       "      <th>std</th>\n",
       "      <td>1.092407e+04</td>\n",
       "      <td>10.300961</td>\n",
       "    </tr>\n",
       "    <tr>\n",
       "      <th>min</th>\n",
       "      <td>6.100000e+01</td>\n",
       "      <td>1888.000000</td>\n",
       "    </tr>\n",
       "    <tr>\n",
       "      <th>25%</th>\n",
       "      <td>2.260000e+02</td>\n",
       "      <td>1976.000000</td>\n",
       "    </tr>\n",
       "    <tr>\n",
       "      <th>50%</th>\n",
       "      <td>3.295000e+02</td>\n",
       "      <td>1983.000000</td>\n",
       "    </tr>\n",
       "    <tr>\n",
       "      <th>75%</th>\n",
       "      <td>5.170000e+02</td>\n",
       "      <td>1989.000000</td>\n",
       "    </tr>\n",
       "    <tr>\n",
       "      <th>max</th>\n",
       "      <td>1.495458e+06</td>\n",
       "      <td>2003.000000</td>\n",
       "    </tr>\n",
       "  </tbody>\n",
       "</table>\n",
       "</div>"
      ],
      "text/plain": [
       "       trip_duration    birth_year\n",
       "count   2.296200e+04  22962.000000\n",
       "mean    6.656929e+02   1981.129997\n",
       "std     1.092407e+04     10.300961\n",
       "min     6.100000e+01   1888.000000\n",
       "25%     2.260000e+02   1976.000000\n",
       "50%     3.295000e+02   1983.000000\n",
       "75%     5.170000e+02   1989.000000\n",
       "max     1.495458e+06   2003.000000"
      ]
     },
     "execution_count": 29,
     "metadata": {},
     "output_type": "execute_result"
    }
   ],
   "source": [
    "df.describe()"
   ]
  },
  {
   "cell_type": "code",
   "execution_count": 30,
   "metadata": {
    "scrolled": true
   },
   "outputs": [
    {
     "data": {
      "text/plain": [
       "array([[<matplotlib.axes._subplots.AxesSubplot object at 0x0000020D24595070>,\n",
       "        <matplotlib.axes._subplots.AxesSubplot object at 0x0000020D249FB640>]],\n",
       "      dtype=object)"
      ]
     },
     "execution_count": 30,
     "metadata": {},
     "output_type": "execute_result"
    },
    {
     "data": {
      "image/png": "[encoded data removed]",
      "text/plain": [
       "<Figure size 432x288 with 2 Axes>"
      ]
     },
     "metadata": {
      "needs_background": "light"
     },
     "output_type": "display_data"
    }
   ],
   "source": [
    "df.hist()"
   ]
  },
  {
   "cell_type": "code",
   "execution_count": 31,
   "metadata": {},
   "outputs": [],
   "source": [
    "# Most males rent Citi bikes than females or unknown gender. Most of them born between 1975 and 1990."
   ]
  },
  {
   "cell_type": "code",
   "execution_count": 32,
   "metadata": {},
   "outputs": [
    {
     "data": {
      "text/html": [
       "<div>\n",
       "<style scoped>\n",
       "    .dataframe tbody tr th:only-of-type {\n",
       "        vertical-align: middle;\n",
       "    }\n",
       "\n",
       "    .dataframe tbody tr th {\n",
       "        vertical-align: top;\n",
       "    }\n",
       "\n",
       "    .dataframe thead th {\n",
       "        text-align: right;\n",
       "    }\n",
       "</style>\n",
       "<table border=\"1\" class=\"dataframe\">\n",
       "  <thead>\n",
       "    <tr style=\"text-align: right;\">\n",
       "      <th></th>\n",
       "      <th>trip_duration</th>\n",
       "      <th>start_time</th>\n",
       "      <th>stop_time</th>\n",
       "      <th>start_station_name</th>\n",
       "      <th>end_station_name</th>\n",
       "      <th>bike_id</th>\n",
       "      <th>user_type</th>\n",
       "      <th>birth_year</th>\n",
       "      <th>gender</th>\n",
       "    </tr>\n",
       "  </thead>\n",
       "  <tbody>\n",
       "    <tr>\n",
       "      <th>0</th>\n",
       "      <td>841</td>\n",
       "      <td>2020-02-01 00:02:13.765</td>\n",
       "      <td>2020-02-01 00:16:15.472</td>\n",
       "      <td>Newport Pkwy</td>\n",
       "      <td>Van Vorst Park</td>\n",
       "      <td>42217</td>\n",
       "      <td>Subscriber</td>\n",
       "      <td>1980</td>\n",
       "      <td>1</td>\n",
       "    </tr>\n",
       "    <tr>\n",
       "      <th>1</th>\n",
       "      <td>206</td>\n",
       "      <td>2020-02-01 00:16:11.385</td>\n",
       "      <td>2020-02-01 00:19:37.446</td>\n",
       "      <td>Manila &amp; 1st</td>\n",
       "      <td>Harborside</td>\n",
       "      <td>42160</td>\n",
       "      <td>Subscriber</td>\n",
       "      <td>1990</td>\n",
       "      <td>1</td>\n",
       "    </tr>\n",
       "    <tr>\n",
       "      <th>2</th>\n",
       "      <td>859</td>\n",
       "      <td>2020-02-01 00:23:22.109</td>\n",
       "      <td>2020-02-01 00:37:41.506</td>\n",
       "      <td>City Hall</td>\n",
       "      <td>Lafayette Park</td>\n",
       "      <td>42204</td>\n",
       "      <td>Customer</td>\n",
       "      <td>1991</td>\n",
       "      <td>1</td>\n",
       "    </tr>\n",
       "    <tr>\n",
       "      <th>3</th>\n",
       "      <td>693</td>\n",
       "      <td>2020-02-01 00:25:14.517</td>\n",
       "      <td>2020-02-01 00:36:48.028</td>\n",
       "      <td>City Hall</td>\n",
       "      <td>Communipaw &amp; Berry Lane</td>\n",
       "      <td>42165</td>\n",
       "      <td>Subscriber</td>\n",
       "      <td>1987</td>\n",
       "      <td>1</td>\n",
       "    </tr>\n",
       "    <tr>\n",
       "      <th>4</th>\n",
       "      <td>1473</td>\n",
       "      <td>2020-02-01 00:32:30.505</td>\n",
       "      <td>2020-02-01 00:57:04.374</td>\n",
       "      <td>Liberty Light Rail</td>\n",
       "      <td>Harborside</td>\n",
       "      <td>26156</td>\n",
       "      <td>Customer</td>\n",
       "      <td>1969</td>\n",
       "      <td>0</td>\n",
       "    </tr>\n",
       "  </tbody>\n",
       "</table>\n",
       "</div>"
      ],
      "text/plain": [
       "   trip_duration              start_time               stop_time  \\\n",
       "0            841 2020-02-01 00:02:13.765 2020-02-01 00:16:15.472   \n",
       "1            206 2020-02-01 00:16:11.385 2020-02-01 00:19:37.446   \n",
       "2            859 2020-02-01 00:23:22.109 2020-02-01 00:37:41.506   \n",
       "3            693 2020-02-01 00:25:14.517 2020-02-01 00:36:48.028   \n",
       "4           1473 2020-02-01 00:32:30.505 2020-02-01 00:57:04.374   \n",
       "\n",
       "   start_station_name         end_station_name bike_id   user_type  \\\n",
       "0        Newport Pkwy           Van Vorst Park   42217  Subscriber   \n",
       "1        Manila & 1st               Harborside   42160  Subscriber   \n",
       "2           City Hall           Lafayette Park   42204    Customer   \n",
       "3           City Hall  Communipaw & Berry Lane   42165  Subscriber   \n",
       "4  Liberty Light Rail               Harborside   26156    Customer   \n",
       "\n",
       "   birth_year gender  \n",
       "0        1980      1  \n",
       "1        1990      1  \n",
       "2        1991      1  \n",
       "3        1987      1  \n",
       "4        1969      0  "
      ]
     },
     "execution_count": 32,
     "metadata": {},
     "output_type": "execute_result"
    }
   ],
   "source": [
    "df.head()"
   ]
  },
  {
   "cell_type": "markdown",
   "metadata": {},
   "source": [
    "## Data Exploration by Variations"
   ]
  },
  {
   "cell_type": "markdown",
   "metadata": {},
   "source": [
    "### Top 10 Bike Start Station"
   ]
  },
  {
   "cell_type": "code",
   "execution_count": 58,
   "metadata": {},
   "outputs": [
    {
     "data": {
      "text/plain": [
       "Text(0.5, 1.0, 'Top Ten Start Station')"
      ]
     },
     "execution_count": 58,
     "metadata": {},
     "output_type": "execute_result"
    },
    {
     "data": {
      "image/png": "[encoded data removed]",
      "text/plain": [
       "<Figure size 1080x1080 with 1 Axes>"
      ]
     },
     "metadata": {
      "needs_background": "light"
     },
     "output_type": "display_data"
    }
   ],
   "source": [
    "top_start_station.plot.bar(figsize = (15,15))\n",
    "plt.xticks(rotation =90)\n",
    "plt.xlabel('Start station names')\n",
    "plt.ylabel('Total number of times bikes rented')\n",
    "plt.title('Top Ten Start Station')"
   ]
  },
  {
   "cell_type": "code",
   "execution_count": 97,
   "metadata": {},
   "outputs": [],
   "source": [
    "#### Visualization of top 10 start stations."
   ]
  },
  {
   "cell_type": "markdown",
   "metadata": {},
   "source": [
    "### Top 10 Bike End Station"
   ]
  },
  {
   "cell_type": "code",
   "execution_count": 59,
   "metadata": {},
   "outputs": [
    {
     "data": {
      "text/plain": [
       "Text(0.5, 1.0, 'Top Ten End Station')"
      ]
     },
     "execution_count": 59,
     "metadata": {},
     "output_type": "execute_result"
    },
    {
     "data": {
      "image/png": "[encoded data removed]",
      "text/plain": [
       "<Figure size 1080x1080 with 1 Axes>"
      ]
     },
     "metadata": {
      "needs_background": "light"
     },
     "output_type": "display_data"
    }
   ],
   "source": [
    "top_end_station.plot.bar(figsize = (15,15))\n",
    "plt.xticks(rotation =90)\n",
    "plt.xlabel('End station names')\n",
    "plt.ylabel('Total number of times bikes rented')\n",
    "plt.title('Top Ten End Station')"
   ]
  },
  {
   "cell_type": "code",
   "execution_count": 98,
   "metadata": {},
   "outputs": [],
   "source": [
    "#### Visualization of top 10 end stations."
   ]
  },
  {
   "cell_type": "markdown",
   "metadata": {},
   "source": [
    "#### Bike renting vs Gender"
   ]
  },
  {
   "cell_type": "code",
   "execution_count": 62,
   "metadata": {},
   "outputs": [
    {
     "data": {
      "text/plain": [
       "Text(0.5, 1.0, 'Total number of times bikes rented vs gender')"
      ]
     },
     "execution_count": 62,
     "metadata": {},
     "output_type": "execute_result"
    },
    {
     "data": {
      "image/png": "[encoded data removed]",
      "text/plain": [
       "<Figure size 432x288 with 1 Axes>"
      ]
     },
     "metadata": {
      "needs_background": "light"
     },
     "output_type": "display_data"
    }
   ],
   "source": [
    "base_color = sb.color_palette()[0]\n",
    "gender_order = df['gender'].value_counts().index\n",
    "sb.countplot(data= df, x = 'gender', color = base_color, order = gender_order)\n",
    "plt.xticks(rotation =90)\n",
    "plt.xlabel('gender')\n",
    "plt.ylabel('number of times bikes rented')\n",
    "plt.title('Total number of times bikes rented vs gender')"
   ]
  },
  {
   "cell_type": "code",
   "execution_count": 99,
   "metadata": {},
   "outputs": [],
   "source": [
    "# males are renting more bikes than females and unknown gender"
   ]
  },
  {
   "cell_type": "markdown",
   "metadata": {},
   "source": [
    "### Does the above depend on if a user is a subscriber or customer?"
   ]
  },
  {
   "cell_type": "markdown",
   "metadata": {},
   "source": [
    "#### Bike renting vs User Type"
   ]
  },
  {
   "cell_type": "code",
   "execution_count": 64,
   "metadata": {},
   "outputs": [
    {
     "data": {
      "text/plain": [
       "Text(0.5, 1.0, 'total number of times bikes rented vs User Type')"
      ]
     },
     "execution_count": 64,
     "metadata": {},
     "output_type": "execute_result"
    },
    {
     "data": {
      "image/png": "[encoded data removed]",
      "text/plain": [
       "<Figure size 432x288 with 1 Axes>"
      ]
     },
     "metadata": {
      "needs_background": "light"
     },
     "output_type": "display_data"
    }
   ],
   "source": [
    "base_color = sb.color_palette()[0]\n",
    "user_order = df['user_type'].value_counts().index\n",
    "sb.countplot(data= df, x = 'user_type', color = base_color, order = user_order)\n",
    "plt.xlabel('user type')\n",
    "plt.ylabel('number of times bikes rented')\n",
    "plt.title('total number of times bikes rented vs User Type')"
   ]
  },
  {
   "cell_type": "code",
   "execution_count": 101,
   "metadata": {},
   "outputs": [],
   "source": [
    "# Subscribers are renting more bikes than regular customers"
   ]
  },
  {
   "cell_type": "markdown",
   "metadata": {},
   "source": [
    "#### Bike renting vs Birth Year"
   ]
  },
  {
   "cell_type": "code",
   "execution_count": 66,
   "metadata": {},
   "outputs": [
    {
     "data": {
      "text/plain": [
       "(array([2.000e+00, 2.000e+00, 0.000e+00, 0.000e+00, 0.000e+00, 5.390e+02,\n",
       "        2.310e+03, 5.311e+03, 1.190e+04, 2.898e+03]),\n",
       " array([1888. , 1899.5, 1911. , 1922.5, 1934. , 1945.5, 1957. , 1968.5,\n",
       "        1980. , 1991.5, 2003. ]),\n",
       " <a list of 10 Patch objects>)"
      ]
     },
     "execution_count": 66,
     "metadata": {},
     "output_type": "execute_result"
    },
    {
     "data": {
      "image/png": "[encoded data removed]",
      "text/plain": [
       "<Figure size 432x288 with 1 Axes>"
      ]
     },
     "metadata": {
      "needs_background": "light"
     },
     "output_type": "display_data"
    }
   ],
   "source": [
    "plt.hist(data = df, x = 'birth_year')"
   ]
  },
  {
   "cell_type": "code",
   "execution_count": 102,
   "metadata": {},
   "outputs": [],
   "source": [
    "# histogram of renters' age"
   ]
  },
  {
   "cell_type": "markdown",
   "metadata": {},
   "source": [
    "### How long does the average trip take?\n"
   ]
  },
  {
   "cell_type": "code",
   "execution_count": 54,
   "metadata": {},
   "outputs": [
    {
     "data": {
      "text/plain": [
       "665.6929274453445"
      ]
     },
     "execution_count": 54,
     "metadata": {},
     "output_type": "execute_result"
    }
   ],
   "source": [
    "df['trip_duration'].mean()"
   ]
  },
  {
   "cell_type": "markdown",
   "metadata": {},
   "source": [
    "The average trip takes 665 seconds which equals to 11 minutes 09 seconds"
   ]
  },
  {
   "cell_type": "code",
   "execution_count": 82,
   "metadata": {},
   "outputs": [
    {
     "data": {
      "text/plain": [
       "4994     1495458\n",
       "4860      345608\n",
       "19204     290697\n",
       "6293      245410\n",
       "12027     221936\n",
       "18466     197074\n",
       "22840     157660\n",
       "22886     149410\n",
       "8720      117897\n",
       "12597      95085\n",
       "5409       90388\n",
       "16170      89655\n",
       "17222      87328\n",
       "19237      85303\n",
       "22772      78647\n",
       "Name: trip_duration, dtype: int64"
      ]
     },
     "execution_count": 82,
     "metadata": {},
     "output_type": "execute_result"
    }
   ],
   "source": [
    "df['trip_duration'].nlargest(15)\n",
    "                             "
   ]
  },
  {
   "cell_type": "code",
   "execution_count": 85,
   "metadata": {},
   "outputs": [
    {
     "data": {
      "text/html": [
       "<div>\n",
       "<style scoped>\n",
       "    .dataframe tbody tr th:only-of-type {\n",
       "        vertical-align: middle;\n",
       "    }\n",
       "\n",
       "    .dataframe tbody tr th {\n",
       "        vertical-align: top;\n",
       "    }\n",
       "\n",
       "    .dataframe thead th {\n",
       "        text-align: right;\n",
       "    }\n",
       "</style>\n",
       "<table border=\"1\" class=\"dataframe\">\n",
       "  <thead>\n",
       "    <tr style=\"text-align: right;\">\n",
       "      <th></th>\n",
       "      <th>trip_duration</th>\n",
       "      <th>start_time</th>\n",
       "      <th>stop_time</th>\n",
       "      <th>start_station_name</th>\n",
       "      <th>end_station_name</th>\n",
       "      <th>bike_id</th>\n",
       "      <th>user_type</th>\n",
       "      <th>birth_year</th>\n",
       "      <th>gender</th>\n",
       "    </tr>\n",
       "  </thead>\n",
       "  <tbody>\n",
       "    <tr>\n",
       "      <th>4994</th>\n",
       "      <td>1495458</td>\n",
       "      <td>2020-02-06 23:36:42.394</td>\n",
       "      <td>2020-02-24 07:01:00.938</td>\n",
       "      <td>JC Medical Center</td>\n",
       "      <td>Grove St PATH</td>\n",
       "      <td>42228</td>\n",
       "      <td>Customer</td>\n",
       "      <td>1969</td>\n",
       "      <td>0</td>\n",
       "    </tr>\n",
       "    <tr>\n",
       "      <th>4860</th>\n",
       "      <td>345608</td>\n",
       "      <td>2020-02-06 18:52:31.856</td>\n",
       "      <td>2020-02-10 18:52:40.774</td>\n",
       "      <td>Sip Ave</td>\n",
       "      <td>Atlantic Ave &amp; Fort Greene Pl</td>\n",
       "      <td>42217</td>\n",
       "      <td>Customer</td>\n",
       "      <td>1994</td>\n",
       "      <td>2</td>\n",
       "    </tr>\n",
       "    <tr>\n",
       "      <th>19204</th>\n",
       "      <td>290697</td>\n",
       "      <td>2020-02-25 07:16:57.800</td>\n",
       "      <td>2020-02-28 16:01:55.520</td>\n",
       "      <td>Lincoln Park</td>\n",
       "      <td>JCBS Depot</td>\n",
       "      <td>42326</td>\n",
       "      <td>Subscriber</td>\n",
       "      <td>1984</td>\n",
       "      <td>2</td>\n",
       "    </tr>\n",
       "    <tr>\n",
       "      <th>6293</th>\n",
       "      <td>245410</td>\n",
       "      <td>2020-02-08 21:55:24.948</td>\n",
       "      <td>2020-02-11 18:05:35.899</td>\n",
       "      <td>Sip Ave</td>\n",
       "      <td>Grove St PATH</td>\n",
       "      <td>42479</td>\n",
       "      <td>Customer</td>\n",
       "      <td>1996</td>\n",
       "      <td>1</td>\n",
       "    </tr>\n",
       "    <tr>\n",
       "      <th>12027</th>\n",
       "      <td>221936</td>\n",
       "      <td>2020-02-16 21:43:35.712</td>\n",
       "      <td>2020-02-19 11:22:32.337</td>\n",
       "      <td>Harborside</td>\n",
       "      <td>Dixon Mills</td>\n",
       "      <td>42369</td>\n",
       "      <td>Subscriber</td>\n",
       "      <td>1990</td>\n",
       "      <td>1</td>\n",
       "    </tr>\n",
       "    <tr>\n",
       "      <th>18466</th>\n",
       "      <td>197074</td>\n",
       "      <td>2020-02-24 10:03:17.788</td>\n",
       "      <td>2020-02-26 16:47:52.511</td>\n",
       "      <td>Newport Pkwy</td>\n",
       "      <td>Warren St</td>\n",
       "      <td>42178</td>\n",
       "      <td>Customer</td>\n",
       "      <td>1969</td>\n",
       "      <td>0</td>\n",
       "    </tr>\n",
       "    <tr>\n",
       "      <th>22840</th>\n",
       "      <td>157660</td>\n",
       "      <td>2020-02-29 16:48:59.735</td>\n",
       "      <td>2020-03-02 12:36:40.591</td>\n",
       "      <td>Marin Light Rail</td>\n",
       "      <td>Paulus Hook</td>\n",
       "      <td>42146</td>\n",
       "      <td>Customer</td>\n",
       "      <td>1983</td>\n",
       "      <td>1</td>\n",
       "    </tr>\n",
       "    <tr>\n",
       "      <th>22886</th>\n",
       "      <td>149410</td>\n",
       "      <td>2020-02-29 18:22:52.975</td>\n",
       "      <td>2020-03-02 11:53:03.380</td>\n",
       "      <td>Sip Ave</td>\n",
       "      <td>Leonard Gordon Park</td>\n",
       "      <td>42444</td>\n",
       "      <td>Customer</td>\n",
       "      <td>1969</td>\n",
       "      <td>0</td>\n",
       "    </tr>\n",
       "    <tr>\n",
       "      <th>8720</th>\n",
       "      <td>117897</td>\n",
       "      <td>2020-02-12 09:10:16.071</td>\n",
       "      <td>2020-02-13 17:55:13.933</td>\n",
       "      <td>Jersey &amp; 3rd</td>\n",
       "      <td>5 Corners Library</td>\n",
       "      <td>42586</td>\n",
       "      <td>Customer</td>\n",
       "      <td>1969</td>\n",
       "      <td>0</td>\n",
       "    </tr>\n",
       "    <tr>\n",
       "      <th>12597</th>\n",
       "      <td>95085</td>\n",
       "      <td>2020-02-17 17:08:51.167</td>\n",
       "      <td>2020-02-18 19:33:37.104</td>\n",
       "      <td>Sip Ave</td>\n",
       "      <td>City Hall</td>\n",
       "      <td>42113</td>\n",
       "      <td>Customer</td>\n",
       "      <td>1969</td>\n",
       "      <td>0</td>\n",
       "    </tr>\n",
       "  </tbody>\n",
       "</table>\n",
       "</div>"
      ],
      "text/plain": [
       "       trip_duration              start_time               stop_time  \\\n",
       "4994         1495458 2020-02-06 23:36:42.394 2020-02-24 07:01:00.938   \n",
       "4860          345608 2020-02-06 18:52:31.856 2020-02-10 18:52:40.774   \n",
       "19204         290697 2020-02-25 07:16:57.800 2020-02-28 16:01:55.520   \n",
       "6293          245410 2020-02-08 21:55:24.948 2020-02-11 18:05:35.899   \n",
       "12027         221936 2020-02-16 21:43:35.712 2020-02-19 11:22:32.337   \n",
       "18466         197074 2020-02-24 10:03:17.788 2020-02-26 16:47:52.511   \n",
       "22840         157660 2020-02-29 16:48:59.735 2020-03-02 12:36:40.591   \n",
       "22886         149410 2020-02-29 18:22:52.975 2020-03-02 11:53:03.380   \n",
       "8720          117897 2020-02-12 09:10:16.071 2020-02-13 17:55:13.933   \n",
       "12597          95085 2020-02-17 17:08:51.167 2020-02-18 19:33:37.104   \n",
       "\n",
       "      start_station_name               end_station_name bike_id   user_type  \\\n",
       "4994   JC Medical Center                  Grove St PATH   42228    Customer   \n",
       "4860             Sip Ave  Atlantic Ave & Fort Greene Pl   42217    Customer   \n",
       "19204       Lincoln Park                     JCBS Depot   42326  Subscriber   \n",
       "6293             Sip Ave                  Grove St PATH   42479    Customer   \n",
       "12027         Harborside                    Dixon Mills   42369  Subscriber   \n",
       "18466       Newport Pkwy                      Warren St   42178    Customer   \n",
       "22840   Marin Light Rail                    Paulus Hook   42146    Customer   \n",
       "22886            Sip Ave            Leonard Gordon Park   42444    Customer   \n",
       "8720        Jersey & 3rd              5 Corners Library   42586    Customer   \n",
       "12597            Sip Ave                      City Hall   42113    Customer   \n",
       "\n",
       "       birth_year gender  \n",
       "4994         1969      0  \n",
       "4860         1994      2  \n",
       "19204        1984      2  \n",
       "6293         1996      1  \n",
       "12027        1990      1  \n",
       "18466        1969      0  \n",
       "22840        1983      1  \n",
       "22886        1969      0  \n",
       "8720         1969      0  \n",
       "12597        1969      0  "
      ]
     },
     "execution_count": 85,
     "metadata": {},
     "output_type": "execute_result"
    }
   ],
   "source": [
    "top_trips = df.nlargest(10, ['trip_duration'])\n",
    "top_trips"
   ]
  },
  {
   "cell_type": "markdown",
   "metadata": {},
   "source": [
    "## Conclusion\n",
    "#### Findings:\n",
    "There are 22,962 users who rented Citi bikes in February 2020. The highest trip was 1,495,458 secs and it was taken by the bike id of 42228. The average trip duration is 665 seconds. Top 3 start stations are Grove St PATH, Sip Ave, and Hamilton Park. Top 3 end stations are Grove St PATH, Sip Ave, and Harborside. Some data types should be cleaned. Most males rent Citi bikes than females or unknown gender. Most of them born between 1975 and 1990. Most of them use bikes every day, they are males. There are more subscribers than regular customers who use Citi bike. The average trip takes 665 seconds which equals 11 minutes 09 seconds. The longest ride is 1495458 seconds which equals 17 days."
   ]
  },
  {
   "cell_type": "markdown",
   "metadata": {},
   "source": [
    "- https://www.citibikenyc.com/system-data\n",
    "- https://s3.amazonaws.com/tripdata/index.html\n",
    "- https://en.wikipedia.org/wiki/Citi_Bike"
   ]
  },
  {
   "cell_type": "code",
   "execution_count": null,
   "metadata": {},
   "outputs": [],
   "source": []
  }
 ],
 "metadata": {
  "kernelspec": {
   "display_name": "Python 3",
   "language": "python",
   "name": "python3"
  },
  "language_info": {
   "codemirror_mode": {
    "name": "ipython",
    "version": 3
   },
   "file_extension": ".py",
   "mimetype": "text/x-python",
   "name": "python",
   "nbconvert_exporter": "python",
   "pygments_lexer": "ipython3",
   "version": "3.8.2"
  }
 },
 "nbformat": 4,
 "nbformat_minor": 4
}
