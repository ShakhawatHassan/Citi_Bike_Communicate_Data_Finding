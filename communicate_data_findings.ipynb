{
 "cells": [
  {
   "cell_type": "markdown",
   "metadata": {},
   "source": [
    "# Analyzing Citi Bike Data\n",
    "## by Shakhawat Hassan"
   ]
  },
  {
   "cell_type": "markdown",
   "metadata": {},
   "source": [
    "## Shakhawat Hassan"
   ]
  },
  {
   "cell_type": "markdown",
   "metadata": {},
   "source": [
    "## Introduction\n",
    "Citi bike is a public bike-sharing system and it is now owned by Lyft. Lyft operates Citi bike around New York City, and Jersey City, NJ. Citi bike bicycle sharing system was opened in May 2013 with 332 stations and 6,000 bikes. Due to the high volume of growth rate, Citi bike is expanding around the five boroughs of NYC. As of July 2017, there are 130,000 annual subscribers. The average is 48,315 rides per day in 2018. Rides per day/week/month/year are still growing rapidly.\n",
    "* Due to staying home order for Covid-19 there might be a decrease in rides per day."
   ]
  },
  {
   "cell_type": "code",
   "execution_count": 1,
   "metadata": {},
   "outputs": [],
   "source": [
    "from timeit import default_timer as timer\n",
    "import pandas as pd\n",
    "import numpy as np\n",
    "import seaborn as sb\n",
    "import matplotlib.pyplot as plt\n",
    "%matplotlib inline\n",
    "\n",
    "# suppress warnings from final output\n",
    "import warnings\n",
    "warnings.simplefilter(\"ignore\")"
   ]
  },
  {
   "cell_type": "markdown",
   "metadata": {},
   "source": [
    "## Preliminary Wrangling"
   ]
  },
  {
   "cell_type": "code",
   "execution_count": 2,
   "metadata": {},
   "outputs": [],
   "source": [
    "df = pd.read_csv('2020feb_citibike.csv')"
   ]
  },
  {
   "cell_type": "code",
   "execution_count": 3,
   "metadata": {},
   "outputs": [
    {
     "data": {
      "text/plain": [
       "(22962, 15)"
      ]
     },
     "execution_count": 3,
     "metadata": {},
     "output_type": "execute_result"
    }
   ],
   "source": [
    "df.shape "
   ]
  },
  {
   "cell_type": "code",
   "execution_count": 4,
   "metadata": {},
   "outputs": [],
   "source": [
    "#22,962 rows and 15 columns"
   ]
  },
  {
   "cell_type": "code",
   "execution_count": 5,
   "metadata": {},
   "outputs": [
    {
     "data": {
      "text/plain": [
       "tripduration               0\n",
       "starttime                  0\n",
       "stoptime                   0\n",
       "start station id           0\n",
       "start station name         0\n",
       "start station latitude     0\n",
       "start station longitude    0\n",
       "end station id             0\n",
       "end station name           0\n",
       "end station latitude       0\n",
       "end station longitude      0\n",
       "bikeid                     0\n",
       "usertype                   0\n",
       "birth year                 0\n",
       "gender                     0\n",
       "dtype: int64"
      ]
     },
     "execution_count": 5,
     "metadata": {},
     "output_type": "execute_result"
    }
   ],
   "source": [
    "df.isnull().sum()       #nulls checking"
   ]
  },
  {
   "cell_type": "code",
   "execution_count": 6,
   "metadata": {},
   "outputs": [
    {
     "data": {
      "text/plain": [
       "0"
      ]
     },
     "execution_count": 6,
     "metadata": {},
     "output_type": "execute_result"
    }
   ],
   "source": [
    "df.duplicated().sum()          #There is no duplicate"
   ]
  },
  {
   "cell_type": "code",
   "execution_count": 7,
   "metadata": {},
   "outputs": [
    {
     "data": {
      "text/html": [
       "<div>\n",
       "<style scoped>\n",
       "    .dataframe tbody tr th:only-of-type {\n",
       "        vertical-align: middle;\n",
       "    }\n",
       "\n",
       "    .dataframe tbody tr th {\n",
       "        vertical-align: top;\n",
       "    }\n",
       "\n",
       "    .dataframe thead th {\n",
       "        text-align: right;\n",
       "    }\n",
       "</style>\n",
       "<table border=\"1\" class=\"dataframe\">\n",
       "  <thead>\n",
       "    <tr style=\"text-align: right;\">\n",
       "      <th></th>\n",
       "      <th>tripduration</th>\n",
       "      <th>starttime</th>\n",
       "      <th>stoptime</th>\n",
       "      <th>start station id</th>\n",
       "      <th>start station name</th>\n",
       "      <th>start station latitude</th>\n",
       "      <th>start station longitude</th>\n",
       "      <th>end station id</th>\n",
       "      <th>end station name</th>\n",
       "      <th>end station latitude</th>\n",
       "      <th>end station longitude</th>\n",
       "      <th>bikeid</th>\n",
       "      <th>usertype</th>\n",
       "      <th>birth year</th>\n",
       "      <th>gender</th>\n",
       "    </tr>\n",
       "  </thead>\n",
       "  <tbody>\n",
       "    <tr>\n",
       "      <th>22957</th>\n",
       "      <td>262</td>\n",
       "      <td>2020-02-29 23:40:53.1620</td>\n",
       "      <td>2020-02-29 23:45:15.3180</td>\n",
       "      <td>3639</td>\n",
       "      <td>Harborside</td>\n",
       "      <td>40.719252</td>\n",
       "      <td>-74.034234</td>\n",
       "      <td>3214</td>\n",
       "      <td>Essex Light Rail</td>\n",
       "      <td>40.712774</td>\n",
       "      <td>-74.036486</td>\n",
       "      <td>42467</td>\n",
       "      <td>Subscriber</td>\n",
       "      <td>1967</td>\n",
       "      <td>1</td>\n",
       "    </tr>\n",
       "    <tr>\n",
       "      <th>22958</th>\n",
       "      <td>216</td>\n",
       "      <td>2020-02-29 23:41:01.3350</td>\n",
       "      <td>2020-02-29 23:44:38.0350</td>\n",
       "      <td>3186</td>\n",
       "      <td>Grove St PATH</td>\n",
       "      <td>40.719586</td>\n",
       "      <td>-74.043117</td>\n",
       "      <td>3483</td>\n",
       "      <td>Montgomery St</td>\n",
       "      <td>40.719420</td>\n",
       "      <td>-74.050990</td>\n",
       "      <td>42377</td>\n",
       "      <td>Subscriber</td>\n",
       "      <td>1958</td>\n",
       "      <td>1</td>\n",
       "    </tr>\n",
       "    <tr>\n",
       "      <th>22959</th>\n",
       "      <td>101</td>\n",
       "      <td>2020-02-29 23:45:22.1700</td>\n",
       "      <td>2020-02-29 23:47:03.2970</td>\n",
       "      <td>3214</td>\n",
       "      <td>Essex Light Rail</td>\n",
       "      <td>40.712774</td>\n",
       "      <td>-74.036486</td>\n",
       "      <td>3681</td>\n",
       "      <td>Grand St</td>\n",
       "      <td>40.715178</td>\n",
       "      <td>-74.037683</td>\n",
       "      <td>42485</td>\n",
       "      <td>Subscriber</td>\n",
       "      <td>1967</td>\n",
       "      <td>1</td>\n",
       "    </tr>\n",
       "    <tr>\n",
       "      <th>22960</th>\n",
       "      <td>279</td>\n",
       "      <td>2020-02-29 23:47:56.8380</td>\n",
       "      <td>2020-02-29 23:52:36.6400</td>\n",
       "      <td>3186</td>\n",
       "      <td>Grove St PATH</td>\n",
       "      <td>40.719586</td>\n",
       "      <td>-74.043117</td>\n",
       "      <td>3483</td>\n",
       "      <td>Montgomery St</td>\n",
       "      <td>40.719420</td>\n",
       "      <td>-74.050990</td>\n",
       "      <td>42531</td>\n",
       "      <td>Subscriber</td>\n",
       "      <td>1988</td>\n",
       "      <td>1</td>\n",
       "    </tr>\n",
       "    <tr>\n",
       "      <th>22961</th>\n",
       "      <td>212</td>\n",
       "      <td>2020-02-29 23:49:18.4510</td>\n",
       "      <td>2020-02-29 23:52:50.7490</td>\n",
       "      <td>3184</td>\n",
       "      <td>Paulus Hook</td>\n",
       "      <td>40.714145</td>\n",
       "      <td>-74.033552</td>\n",
       "      <td>3276</td>\n",
       "      <td>Marin Light Rail</td>\n",
       "      <td>40.714584</td>\n",
       "      <td>-74.042817</td>\n",
       "      <td>42385</td>\n",
       "      <td>Subscriber</td>\n",
       "      <td>1967</td>\n",
       "      <td>1</td>\n",
       "    </tr>\n",
       "  </tbody>\n",
       "</table>\n",
       "</div>"
      ],
      "text/plain": [
       "       tripduration                 starttime                  stoptime  \\\n",
       "22957           262  2020-02-29 23:40:53.1620  2020-02-29 23:45:15.3180   \n",
       "22958           216  2020-02-29 23:41:01.3350  2020-02-29 23:44:38.0350   \n",
       "22959           101  2020-02-29 23:45:22.1700  2020-02-29 23:47:03.2970   \n",
       "22960           279  2020-02-29 23:47:56.8380  2020-02-29 23:52:36.6400   \n",
       "22961           212  2020-02-29 23:49:18.4510  2020-02-29 23:52:50.7490   \n",
       "\n",
       "       start station id start station name  start station latitude  \\\n",
       "22957              3639         Harborside               40.719252   \n",
       "22958              3186      Grove St PATH               40.719586   \n",
       "22959              3214   Essex Light Rail               40.712774   \n",
       "22960              3186      Grove St PATH               40.719586   \n",
       "22961              3184        Paulus Hook               40.714145   \n",
       "\n",
       "       start station longitude  end station id  end station name  \\\n",
       "22957               -74.034234            3214  Essex Light Rail   \n",
       "22958               -74.043117            3483     Montgomery St   \n",
       "22959               -74.036486            3681          Grand St   \n",
       "22960               -74.043117            3483     Montgomery St   \n",
       "22961               -74.033552            3276  Marin Light Rail   \n",
       "\n",
       "       end station latitude  end station longitude  bikeid    usertype  \\\n",
       "22957             40.712774             -74.036486   42467  Subscriber   \n",
       "22958             40.719420             -74.050990   42377  Subscriber   \n",
       "22959             40.715178             -74.037683   42485  Subscriber   \n",
       "22960             40.719420             -74.050990   42531  Subscriber   \n",
       "22961             40.714584             -74.042817   42385  Subscriber   \n",
       "\n",
       "       birth year  gender  \n",
       "22957        1967       1  \n",
       "22958        1958       1  \n",
       "22959        1967       1  \n",
       "22960        1988       1  \n",
       "22961        1967       1  "
      ]
     },
     "execution_count": 7,
     "metadata": {},
     "output_type": "execute_result"
    }
   ],
   "source": [
    "df.tail()"
   ]
  },
  {
   "cell_type": "code",
   "execution_count": 8,
   "metadata": {},
   "outputs": [
    {
     "data": {
      "text/plain": [
       "22962"
      ]
     },
     "execution_count": 8,
     "metadata": {},
     "output_type": "execute_result"
    }
   ],
   "source": [
    "df['bikeid'].count()"
   ]
  },
  {
   "cell_type": "markdown",
   "metadata": {},
   "source": [
    "#### 22962 users who rented citi bikes in February 2020"
   ]
  },
  {
   "cell_type": "code",
   "execution_count": 9,
   "metadata": {},
   "outputs": [
    {
     "data": {
      "text/plain": [
       "4994     1495458\n",
       "4860      345608\n",
       "19204     290697\n",
       "6293      245410\n",
       "12027     221936\n",
       "Name: tripduration, dtype: int64"
      ]
     },
     "execution_count": 9,
     "metadata": {},
     "output_type": "execute_result"
    }
   ],
   "source": [
    "df['tripduration'].nlargest() "
   ]
  },
  {
   "cell_type": "code",
   "execution_count": 10,
   "metadata": {},
   "outputs": [
    {
     "name": "stdout",
     "output_type": "stream",
     "text": [
      "<class 'pandas.core.frame.DataFrame'>\n",
      "RangeIndex: 22962 entries, 0 to 22961\n",
      "Data columns (total 15 columns):\n",
      " #   Column                   Non-Null Count  Dtype  \n",
      "---  ------                   --------------  -----  \n",
      " 0   tripduration             22962 non-null  int64  \n",
      " 1   starttime                22962 non-null  object \n",
      " 2   stoptime                 22962 non-null  object \n",
      " 3   start station id         22962 non-null  int64  \n",
      " 4   start station name       22962 non-null  object \n",
      " 5   start station latitude   22962 non-null  float64\n",
      " 6   start station longitude  22962 non-null  float64\n",
      " 7   end station id           22962 non-null  int64  \n",
      " 8   end station name         22962 non-null  object \n",
      " 9   end station latitude     22962 non-null  float64\n",
      " 10  end station longitude    22962 non-null  float64\n",
      " 11  bikeid                   22962 non-null  int64  \n",
      " 12  usertype                 22962 non-null  object \n",
      " 13  birth year               22962 non-null  int64  \n",
      " 14  gender                   22962 non-null  int64  \n",
      "dtypes: float64(4), int64(6), object(5)\n",
      "memory usage: 2.6+ MB\n"
     ]
    }
   ],
   "source": [
    "df.info() #data type checking"
   ]
  },
  {
   "cell_type": "code",
   "execution_count": 11,
   "metadata": {},
   "outputs": [
    {
     "data": {
      "text/plain": [
       "tripduration                 665.692927\n",
       "start station id            3307.954446\n",
       "start station latitude        40.722765\n",
       "start station longitude      -74.046948\n",
       "end station id              3308.074819\n",
       "end station latitude          40.722323\n",
       "end station longitude        -74.046393\n",
       "bikeid                     41376.724153\n",
       "birth year                  1981.129997\n",
       "gender                         1.195976\n",
       "dtype: float64"
      ]
     },
     "execution_count": 11,
     "metadata": {},
     "output_type": "execute_result"
    }
   ],
   "source": [
    "df.mean() #mean checking"
   ]
  },
  {
   "cell_type": "code",
   "execution_count": 12,
   "metadata": {},
   "outputs": [
    {
     "data": {
      "text/html": [
       "<div>\n",
       "<style scoped>\n",
       "    .dataframe tbody tr th:only-of-type {\n",
       "        vertical-align: middle;\n",
       "    }\n",
       "\n",
       "    .dataframe tbody tr th {\n",
       "        vertical-align: top;\n",
       "    }\n",
       "\n",
       "    .dataframe thead th {\n",
       "        text-align: right;\n",
       "    }\n",
       "</style>\n",
       "<table border=\"1\" class=\"dataframe\">\n",
       "  <thead>\n",
       "    <tr style=\"text-align: right;\">\n",
       "      <th></th>\n",
       "      <th>tripduration</th>\n",
       "      <th>start station id</th>\n",
       "      <th>start station latitude</th>\n",
       "      <th>start station longitude</th>\n",
       "      <th>end station id</th>\n",
       "      <th>end station latitude</th>\n",
       "      <th>end station longitude</th>\n",
       "      <th>bikeid</th>\n",
       "      <th>birth year</th>\n",
       "      <th>gender</th>\n",
       "    </tr>\n",
       "  </thead>\n",
       "  <tbody>\n",
       "    <tr>\n",
       "      <th>count</th>\n",
       "      <td>2.296200e+04</td>\n",
       "      <td>22962.000000</td>\n",
       "      <td>22962.000000</td>\n",
       "      <td>22962.000000</td>\n",
       "      <td>22962.000000</td>\n",
       "      <td>22962.000000</td>\n",
       "      <td>22962.000000</td>\n",
       "      <td>22962.000000</td>\n",
       "      <td>22962.000000</td>\n",
       "      <td>22962.000000</td>\n",
       "    </tr>\n",
       "    <tr>\n",
       "      <th>mean</th>\n",
       "      <td>6.656929e+02</td>\n",
       "      <td>3307.954446</td>\n",
       "      <td>40.722765</td>\n",
       "      <td>-74.046948</td>\n",
       "      <td>3308.074819</td>\n",
       "      <td>40.722323</td>\n",
       "      <td>-74.046393</td>\n",
       "      <td>41376.724153</td>\n",
       "      <td>1981.129997</td>\n",
       "      <td>1.195976</td>\n",
       "    </tr>\n",
       "    <tr>\n",
       "      <th>std</th>\n",
       "      <td>1.092407e+04</td>\n",
       "      <td>184.877308</td>\n",
       "      <td>0.006696</td>\n",
       "      <td>0.011348</td>\n",
       "      <td>189.016475</td>\n",
       "      <td>0.006509</td>\n",
       "      <td>0.011213</td>\n",
       "      <td>3551.166582</td>\n",
       "      <td>10.300961</td>\n",
       "      <td>0.494564</td>\n",
       "    </tr>\n",
       "    <tr>\n",
       "      <th>min</th>\n",
       "      <td>6.100000e+01</td>\n",
       "      <td>3184.000000</td>\n",
       "      <td>40.711130</td>\n",
       "      <td>-74.083639</td>\n",
       "      <td>83.000000</td>\n",
       "      <td>40.683826</td>\n",
       "      <td>-74.083639</td>\n",
       "      <td>17273.000000</td>\n",
       "      <td>1888.000000</td>\n",
       "      <td>0.000000</td>\n",
       "    </tr>\n",
       "    <tr>\n",
       "      <th>25%</th>\n",
       "      <td>2.260000e+02</td>\n",
       "      <td>3195.000000</td>\n",
       "      <td>40.718355</td>\n",
       "      <td>-74.050656</td>\n",
       "      <td>3194.000000</td>\n",
       "      <td>40.718355</td>\n",
       "      <td>-74.050444</td>\n",
       "      <td>42192.000000</td>\n",
       "      <td>1976.000000</td>\n",
       "      <td>1.000000</td>\n",
       "    </tr>\n",
       "    <tr>\n",
       "      <th>50%</th>\n",
       "      <td>3.295000e+02</td>\n",
       "      <td>3211.000000</td>\n",
       "      <td>40.721630</td>\n",
       "      <td>-74.044247</td>\n",
       "      <td>3211.000000</td>\n",
       "      <td>40.721124</td>\n",
       "      <td>-74.043117</td>\n",
       "      <td>42325.000000</td>\n",
       "      <td>1983.000000</td>\n",
       "      <td>1.000000</td>\n",
       "    </tr>\n",
       "    <tr>\n",
       "      <th>75%</th>\n",
       "      <td>5.170000e+02</td>\n",
       "      <td>3278.000000</td>\n",
       "      <td>40.727224</td>\n",
       "      <td>-74.038526</td>\n",
       "      <td>3278.000000</td>\n",
       "      <td>40.726012</td>\n",
       "      <td>-74.038051</td>\n",
       "      <td>42458.000000</td>\n",
       "      <td>1989.000000</td>\n",
       "      <td>1.000000</td>\n",
       "    </tr>\n",
       "    <tr>\n",
       "      <th>max</th>\n",
       "      <td>1.495458e+06</td>\n",
       "      <td>3792.000000</td>\n",
       "      <td>40.748716</td>\n",
       "      <td>-74.032108</td>\n",
       "      <td>3792.000000</td>\n",
       "      <td>40.748716</td>\n",
       "      <td>-73.976323</td>\n",
       "      <td>42636.000000</td>\n",
       "      <td>2003.000000</td>\n",
       "      <td>2.000000</td>\n",
       "    </tr>\n",
       "  </tbody>\n",
       "</table>\n",
       "</div>"
      ],
      "text/plain": [
       "       tripduration  start station id  start station latitude  \\\n",
       "count  2.296200e+04      22962.000000            22962.000000   \n",
       "mean   6.656929e+02       3307.954446               40.722765   \n",
       "std    1.092407e+04        184.877308                0.006696   \n",
       "min    6.100000e+01       3184.000000               40.711130   \n",
       "25%    2.260000e+02       3195.000000               40.718355   \n",
       "50%    3.295000e+02       3211.000000               40.721630   \n",
       "75%    5.170000e+02       3278.000000               40.727224   \n",
       "max    1.495458e+06       3792.000000               40.748716   \n",
       "\n",
       "       start station longitude  end station id  end station latitude  \\\n",
       "count             22962.000000    22962.000000          22962.000000   \n",
       "mean                -74.046948     3308.074819             40.722323   \n",
       "std                   0.011348      189.016475              0.006509   \n",
       "min                 -74.083639       83.000000             40.683826   \n",
       "25%                 -74.050656     3194.000000             40.718355   \n",
       "50%                 -74.044247     3211.000000             40.721124   \n",
       "75%                 -74.038526     3278.000000             40.726012   \n",
       "max                 -74.032108     3792.000000             40.748716   \n",
       "\n",
       "       end station longitude        bikeid    birth year        gender  \n",
       "count           22962.000000  22962.000000  22962.000000  22962.000000  \n",
       "mean              -74.046393  41376.724153   1981.129997      1.195976  \n",
       "std                 0.011213   3551.166582     10.300961      0.494564  \n",
       "min               -74.083639  17273.000000   1888.000000      0.000000  \n",
       "25%               -74.050444  42192.000000   1976.000000      1.000000  \n",
       "50%               -74.043117  42325.000000   1983.000000      1.000000  \n",
       "75%               -74.038051  42458.000000   1989.000000      1.000000  \n",
       "max               -73.976323  42636.000000   2003.000000      2.000000  "
      ]
     },
     "execution_count": 12,
     "metadata": {},
     "output_type": "execute_result"
    }
   ],
   "source": [
    "df.describe() #stats checking"
   ]
  },
  {
   "cell_type": "code",
   "execution_count": 13,
   "metadata": {},
   "outputs": [],
   "source": [
    "# 'start station id' , 'end station id', bikeid, should to be string, \"birth year' is timedate, 'gender' is categorical"
   ]
  },
  {
   "cell_type": "code",
   "execution_count": 14,
   "metadata": {},
   "outputs": [
    {
     "data": {
      "text/plain": [
       "Grove St PATH                 2328\n",
       "Sip Ave                       1402\n",
       "Hamilton Park                 1202\n",
       "Harborside                    1058\n",
       "Newport PATH                   978\n",
       "Columbus Dr at Exchange Pl     922\n",
       "Marin Light Rail               746\n",
       "City Hall                      683\n",
       "Newport Pkwy                   657\n",
       "Brunswick & 6th                654\n",
       "Newark Ave                     631\n",
       "McGinley Square                531\n",
       "Jersey & 3rd                   526\n",
       "Monmouth and 6th               521\n",
       "Manila & 1st                   517\n",
       "Name: start station name, dtype: int64"
      ]
     },
     "execution_count": 14,
     "metadata": {},
     "output_type": "execute_result"
    }
   ],
   "source": [
    "top_start_station = df['start station name'].value_counts().head(15)\n",
    "top_start_station"
   ]
  },
  {
   "cell_type": "markdown",
   "metadata": {},
   "source": [
    "Top 3 start stations are Grove St PATH, Sip Ave, and Hamilton Park."
   ]
  },
  {
   "cell_type": "code",
   "execution_count": 15,
   "metadata": {},
   "outputs": [
    {
     "data": {
      "text/plain": [
       "Grove St PATH                 3109\n",
       "Sip Ave                       1342\n",
       "Harborside                    1087\n",
       "Hamilton Park                 1051\n",
       "Columbus Dr at Exchange Pl    1003\n",
       "Newport PATH                   964\n",
       "Marin Light Rail               716\n",
       "City Hall                      708\n",
       "Newport Pkwy                   659\n",
       "Newark Ave                     648\n",
       "Manila & 1st                   565\n",
       "Warren St                      556\n",
       "Jersey & 3rd                   528\n",
       "Columbus Drive                 522\n",
       "Washington St                  499\n",
       "Name: end station name, dtype: int64"
      ]
     },
     "execution_count": 15,
     "metadata": {},
     "output_type": "execute_result"
    }
   ],
   "source": [
    "top_end_station = df['end station name'].value_counts().head(15)\n",
    "top_end_station"
   ]
  },
  {
   "cell_type": "markdown",
   "metadata": {},
   "source": [
    "Top 3 end stations are Grove St PATH, Sip Ave, and Harborside."
   ]
  },
  {
   "cell_type": "code",
   "execution_count": 16,
   "metadata": {},
   "outputs": [
    {
     "data": {
      "text/plain": [
       "tripduration               10924.072660\n",
       "start station id             184.877308\n",
       "start station latitude         0.006696\n",
       "start station longitude        0.011348\n",
       "end station id               189.016475\n",
       "end station latitude           0.006509\n",
       "end station longitude          0.011213\n",
       "bikeid                      3551.166582\n",
       "birth year                    10.300961\n",
       "gender                         0.494564\n",
       "dtype: float64"
      ]
     },
     "execution_count": 16,
     "metadata": {},
     "output_type": "execute_result"
    }
   ],
   "source": [
    "df.std() #standard deviation"
   ]
  },
  {
   "cell_type": "code",
   "execution_count": 17,
   "metadata": {},
   "outputs": [
    {
     "data": {
      "text/html": [
       "<div>\n",
       "<style scoped>\n",
       "    .dataframe tbody tr th:only-of-type {\n",
       "        vertical-align: middle;\n",
       "    }\n",
       "\n",
       "    .dataframe tbody tr th {\n",
       "        vertical-align: top;\n",
       "    }\n",
       "\n",
       "    .dataframe thead th {\n",
       "        text-align: right;\n",
       "    }\n",
       "</style>\n",
       "<table border=\"1\" class=\"dataframe\">\n",
       "  <thead>\n",
       "    <tr style=\"text-align: right;\">\n",
       "      <th></th>\n",
       "      <th>tripduration</th>\n",
       "      <th>starttime</th>\n",
       "      <th>stoptime</th>\n",
       "      <th>start station id</th>\n",
       "      <th>start station name</th>\n",
       "      <th>start station latitude</th>\n",
       "      <th>start station longitude</th>\n",
       "      <th>end station id</th>\n",
       "      <th>end station name</th>\n",
       "      <th>end station latitude</th>\n",
       "      <th>end station longitude</th>\n",
       "      <th>bikeid</th>\n",
       "      <th>usertype</th>\n",
       "      <th>birth year</th>\n",
       "      <th>gender</th>\n",
       "    </tr>\n",
       "  </thead>\n",
       "  <tbody>\n",
       "    <tr>\n",
       "      <th>0</th>\n",
       "      <td>841</td>\n",
       "      <td>2020-02-01 00:02:13.7650</td>\n",
       "      <td>2020-02-01 00:16:15.4720</td>\n",
       "      <td>3199</td>\n",
       "      <td>Newport Pkwy</td>\n",
       "      <td>40.728745</td>\n",
       "      <td>-74.032108</td>\n",
       "      <td>3213</td>\n",
       "      <td>Van Vorst Park</td>\n",
       "      <td>40.718489</td>\n",
       "      <td>-74.047727</td>\n",
       "      <td>42217</td>\n",
       "      <td>Subscriber</td>\n",
       "      <td>1980</td>\n",
       "      <td>1</td>\n",
       "    </tr>\n",
       "    <tr>\n",
       "      <th>1</th>\n",
       "      <td>206</td>\n",
       "      <td>2020-02-01 00:16:11.3850</td>\n",
       "      <td>2020-02-01 00:19:37.4460</td>\n",
       "      <td>3273</td>\n",
       "      <td>Manila &amp; 1st</td>\n",
       "      <td>40.721651</td>\n",
       "      <td>-74.042884</td>\n",
       "      <td>3639</td>\n",
       "      <td>Harborside</td>\n",
       "      <td>40.719252</td>\n",
       "      <td>-74.034234</td>\n",
       "      <td>42160</td>\n",
       "      <td>Subscriber</td>\n",
       "      <td>1990</td>\n",
       "      <td>1</td>\n",
       "    </tr>\n",
       "    <tr>\n",
       "      <th>2</th>\n",
       "      <td>859</td>\n",
       "      <td>2020-02-01 00:23:22.1090</td>\n",
       "      <td>2020-02-01 00:37:41.5060</td>\n",
       "      <td>3185</td>\n",
       "      <td>City Hall</td>\n",
       "      <td>40.717733</td>\n",
       "      <td>-74.043845</td>\n",
       "      <td>3268</td>\n",
       "      <td>Lafayette Park</td>\n",
       "      <td>40.713464</td>\n",
       "      <td>-74.062859</td>\n",
       "      <td>42204</td>\n",
       "      <td>Customer</td>\n",
       "      <td>1991</td>\n",
       "      <td>1</td>\n",
       "    </tr>\n",
       "    <tr>\n",
       "      <th>3</th>\n",
       "      <td>693</td>\n",
       "      <td>2020-02-01 00:25:14.5170</td>\n",
       "      <td>2020-02-01 00:36:48.0280</td>\n",
       "      <td>3185</td>\n",
       "      <td>City Hall</td>\n",
       "      <td>40.717733</td>\n",
       "      <td>-74.043845</td>\n",
       "      <td>3277</td>\n",
       "      <td>Communipaw &amp; Berry Lane</td>\n",
       "      <td>40.714358</td>\n",
       "      <td>-74.066611</td>\n",
       "      <td>42165</td>\n",
       "      <td>Subscriber</td>\n",
       "      <td>1987</td>\n",
       "      <td>1</td>\n",
       "    </tr>\n",
       "    <tr>\n",
       "      <th>4</th>\n",
       "      <td>1473</td>\n",
       "      <td>2020-02-01 00:32:30.5050</td>\n",
       "      <td>2020-02-01 00:57:04.3740</td>\n",
       "      <td>3192</td>\n",
       "      <td>Liberty Light Rail</td>\n",
       "      <td>40.711242</td>\n",
       "      <td>-74.055701</td>\n",
       "      <td>3639</td>\n",
       "      <td>Harborside</td>\n",
       "      <td>40.719252</td>\n",
       "      <td>-74.034234</td>\n",
       "      <td>26156</td>\n",
       "      <td>Customer</td>\n",
       "      <td>1969</td>\n",
       "      <td>0</td>\n",
       "    </tr>\n",
       "  </tbody>\n",
       "</table>\n",
       "</div>"
      ],
      "text/plain": [
       "   tripduration                 starttime                  stoptime  \\\n",
       "0           841  2020-02-01 00:02:13.7650  2020-02-01 00:16:15.4720   \n",
       "1           206  2020-02-01 00:16:11.3850  2020-02-01 00:19:37.4460   \n",
       "2           859  2020-02-01 00:23:22.1090  2020-02-01 00:37:41.5060   \n",
       "3           693  2020-02-01 00:25:14.5170  2020-02-01 00:36:48.0280   \n",
       "4          1473  2020-02-01 00:32:30.5050  2020-02-01 00:57:04.3740   \n",
       "\n",
       "   start station id  start station name  start station latitude  \\\n",
       "0              3199        Newport Pkwy               40.728745   \n",
       "1              3273        Manila & 1st               40.721651   \n",
       "2              3185           City Hall               40.717733   \n",
       "3              3185           City Hall               40.717733   \n",
       "4              3192  Liberty Light Rail               40.711242   \n",
       "\n",
       "   start station longitude  end station id         end station name  \\\n",
       "0               -74.032108            3213           Van Vorst Park   \n",
       "1               -74.042884            3639               Harborside   \n",
       "2               -74.043845            3268           Lafayette Park   \n",
       "3               -74.043845            3277  Communipaw & Berry Lane   \n",
       "4               -74.055701            3639               Harborside   \n",
       "\n",
       "   end station latitude  end station longitude  bikeid    usertype  \\\n",
       "0             40.718489             -74.047727   42217  Subscriber   \n",
       "1             40.719252             -74.034234   42160  Subscriber   \n",
       "2             40.713464             -74.062859   42204    Customer   \n",
       "3             40.714358             -74.066611   42165  Subscriber   \n",
       "4             40.719252             -74.034234   26156    Customer   \n",
       "\n",
       "   birth year  gender  \n",
       "0        1980       1  \n",
       "1        1990       1  \n",
       "2        1991       1  \n",
       "3        1987       1  \n",
       "4        1969       0  "
      ]
     },
     "execution_count": 17,
     "metadata": {},
     "output_type": "execute_result"
    }
   ],
   "source": [
    "df.head()"
   ]
  },
  {
   "cell_type": "markdown",
   "metadata": {},
   "source": [
    "### Exploratory Analysis"
   ]
  },
  {
   "cell_type": "markdown",
   "metadata": {},
   "source": [
    "There are 22,962 users who rented Citi bikes in February 2020. The highest trip was 1,495,458 secs and it was taken by the bike id of 42228. The average trip duration is 665 seconds. Top 3 start stations are Grove St PATH, Sip Ave, and Hamilton Park. Top 3 end stations are Grove St PATH, Sip Ave, and Harborside. Some data types should be cleaned. \n"
   ]
  },
  {
   "cell_type": "markdown",
   "metadata": {},
   "source": [
    "## Data Wrangling"
   ]
  },
  {
   "cell_type": "code",
   "execution_count": 18,
   "metadata": {},
   "outputs": [
    {
     "name": "stdout",
     "output_type": "stream",
     "text": [
      "<class 'pandas.core.frame.DataFrame'>\n",
      "RangeIndex: 22962 entries, 0 to 22961\n",
      "Data columns (total 15 columns):\n",
      " #   Column                   Non-Null Count  Dtype  \n",
      "---  ------                   --------------  -----  \n",
      " 0   tripduration             22962 non-null  int64  \n",
      " 1   starttime                22962 non-null  object \n",
      " 2   stoptime                 22962 non-null  object \n",
      " 3   start station id         22962 non-null  int64  \n",
      " 4   start station name       22962 non-null  object \n",
      " 5   start station latitude   22962 non-null  float64\n",
      " 6   start station longitude  22962 non-null  float64\n",
      " 7   end station id           22962 non-null  int64  \n",
      " 8   end station name         22962 non-null  object \n",
      " 9   end station latitude     22962 non-null  float64\n",
      " 10  end station longitude    22962 non-null  float64\n",
      " 11  bikeid                   22962 non-null  int64  \n",
      " 12  usertype                 22962 non-null  object \n",
      " 13  birth year               22962 non-null  int64  \n",
      " 14  gender                   22962 non-null  int64  \n",
      "dtypes: float64(4), int64(6), object(5)\n",
      "memory usage: 2.6+ MB\n"
     ]
    }
   ],
   "source": [
    "df.info()"
   ]
  },
  {
   "cell_type": "code",
   "execution_count": 19,
   "metadata": {},
   "outputs": [
    {
     "data": {
      "text/html": [
       "<div>\n",
       "<style scoped>\n",
       "    .dataframe tbody tr th:only-of-type {\n",
       "        vertical-align: middle;\n",
       "    }\n",
       "\n",
       "    .dataframe tbody tr th {\n",
       "        vertical-align: top;\n",
       "    }\n",
       "\n",
       "    .dataframe thead th {\n",
       "        text-align: right;\n",
       "    }\n",
       "</style>\n",
       "<table border=\"1\" class=\"dataframe\">\n",
       "  <thead>\n",
       "    <tr style=\"text-align: right;\">\n",
       "      <th></th>\n",
       "      <th>tripduration</th>\n",
       "      <th>starttime</th>\n",
       "      <th>stoptime</th>\n",
       "      <th>start station id</th>\n",
       "      <th>start station name</th>\n",
       "      <th>start station latitude</th>\n",
       "      <th>start station longitude</th>\n",
       "      <th>end station id</th>\n",
       "      <th>end station name</th>\n",
       "      <th>end station latitude</th>\n",
       "      <th>end station longitude</th>\n",
       "      <th>bikeid</th>\n",
       "      <th>usertype</th>\n",
       "      <th>birth year</th>\n",
       "      <th>gender</th>\n",
       "    </tr>\n",
       "  </thead>\n",
       "  <tbody>\n",
       "    <tr>\n",
       "      <th>0</th>\n",
       "      <td>841</td>\n",
       "      <td>2020-02-01 00:02:13.7650</td>\n",
       "      <td>2020-02-01 00:16:15.4720</td>\n",
       "      <td>3199</td>\n",
       "      <td>Newport Pkwy</td>\n",
       "      <td>40.728745</td>\n",
       "      <td>-74.032108</td>\n",
       "      <td>3213</td>\n",
       "      <td>Van Vorst Park</td>\n",
       "      <td>40.718489</td>\n",
       "      <td>-74.047727</td>\n",
       "      <td>42217</td>\n",
       "      <td>Subscriber</td>\n",
       "      <td>1980</td>\n",
       "      <td>1</td>\n",
       "    </tr>\n",
       "    <tr>\n",
       "      <th>1</th>\n",
       "      <td>206</td>\n",
       "      <td>2020-02-01 00:16:11.3850</td>\n",
       "      <td>2020-02-01 00:19:37.4460</td>\n",
       "      <td>3273</td>\n",
       "      <td>Manila &amp; 1st</td>\n",
       "      <td>40.721651</td>\n",
       "      <td>-74.042884</td>\n",
       "      <td>3639</td>\n",
       "      <td>Harborside</td>\n",
       "      <td>40.719252</td>\n",
       "      <td>-74.034234</td>\n",
       "      <td>42160</td>\n",
       "      <td>Subscriber</td>\n",
       "      <td>1990</td>\n",
       "      <td>1</td>\n",
       "    </tr>\n",
       "    <tr>\n",
       "      <th>2</th>\n",
       "      <td>859</td>\n",
       "      <td>2020-02-01 00:23:22.1090</td>\n",
       "      <td>2020-02-01 00:37:41.5060</td>\n",
       "      <td>3185</td>\n",
       "      <td>City Hall</td>\n",
       "      <td>40.717733</td>\n",
       "      <td>-74.043845</td>\n",
       "      <td>3268</td>\n",
       "      <td>Lafayette Park</td>\n",
       "      <td>40.713464</td>\n",
       "      <td>-74.062859</td>\n",
       "      <td>42204</td>\n",
       "      <td>Customer</td>\n",
       "      <td>1991</td>\n",
       "      <td>1</td>\n",
       "    </tr>\n",
       "    <tr>\n",
       "      <th>3</th>\n",
       "      <td>693</td>\n",
       "      <td>2020-02-01 00:25:14.5170</td>\n",
       "      <td>2020-02-01 00:36:48.0280</td>\n",
       "      <td>3185</td>\n",
       "      <td>City Hall</td>\n",
       "      <td>40.717733</td>\n",
       "      <td>-74.043845</td>\n",
       "      <td>3277</td>\n",
       "      <td>Communipaw &amp; Berry Lane</td>\n",
       "      <td>40.714358</td>\n",
       "      <td>-74.066611</td>\n",
       "      <td>42165</td>\n",
       "      <td>Subscriber</td>\n",
       "      <td>1987</td>\n",
       "      <td>1</td>\n",
       "    </tr>\n",
       "    <tr>\n",
       "      <th>4</th>\n",
       "      <td>1473</td>\n",
       "      <td>2020-02-01 00:32:30.5050</td>\n",
       "      <td>2020-02-01 00:57:04.3740</td>\n",
       "      <td>3192</td>\n",
       "      <td>Liberty Light Rail</td>\n",
       "      <td>40.711242</td>\n",
       "      <td>-74.055701</td>\n",
       "      <td>3639</td>\n",
       "      <td>Harborside</td>\n",
       "      <td>40.719252</td>\n",
       "      <td>-74.034234</td>\n",
       "      <td>26156</td>\n",
       "      <td>Customer</td>\n",
       "      <td>1969</td>\n",
       "      <td>0</td>\n",
       "    </tr>\n",
       "  </tbody>\n",
       "</table>\n",
       "</div>"
      ],
      "text/plain": [
       "   tripduration                 starttime                  stoptime  \\\n",
       "0           841  2020-02-01 00:02:13.7650  2020-02-01 00:16:15.4720   \n",
       "1           206  2020-02-01 00:16:11.3850  2020-02-01 00:19:37.4460   \n",
       "2           859  2020-02-01 00:23:22.1090  2020-02-01 00:37:41.5060   \n",
       "3           693  2020-02-01 00:25:14.5170  2020-02-01 00:36:48.0280   \n",
       "4          1473  2020-02-01 00:32:30.5050  2020-02-01 00:57:04.3740   \n",
       "\n",
       "   start station id  start station name  start station latitude  \\\n",
       "0              3199        Newport Pkwy               40.728745   \n",
       "1              3273        Manila & 1st               40.721651   \n",
       "2              3185           City Hall               40.717733   \n",
       "3              3185           City Hall               40.717733   \n",
       "4              3192  Liberty Light Rail               40.711242   \n",
       "\n",
       "   start station longitude  end station id         end station name  \\\n",
       "0               -74.032108            3213           Van Vorst Park   \n",
       "1               -74.042884            3639               Harborside   \n",
       "2               -74.043845            3268           Lafayette Park   \n",
       "3               -74.043845            3277  Communipaw & Berry Lane   \n",
       "4               -74.055701            3639               Harborside   \n",
       "\n",
       "   end station latitude  end station longitude  bikeid    usertype  \\\n",
       "0             40.718489             -74.047727   42217  Subscriber   \n",
       "1             40.719252             -74.034234   42160  Subscriber   \n",
       "2             40.713464             -74.062859   42204    Customer   \n",
       "3             40.714358             -74.066611   42165  Subscriber   \n",
       "4             40.719252             -74.034234   26156    Customer   \n",
       "\n",
       "   birth year  gender  \n",
       "0        1980       1  \n",
       "1        1990       1  \n",
       "2        1991       1  \n",
       "3        1987       1  \n",
       "4        1969       0  "
      ]
     },
     "execution_count": 19,
     "metadata": {},
     "output_type": "execute_result"
    }
   ],
   "source": [
    "df.head()"
   ]
  },
  {
   "cell_type": "code",
   "execution_count": 20,
   "metadata": {},
   "outputs": [],
   "source": [
    "#drop unnecessary columns\n",
    "df.drop(['start station id', 'start station latitude',\n",
    "         'start station longitude', 'end station id', 'end station latitude', 'end station longitude'], axis =1, inplace=True)"
   ]
  },
  {
   "cell_type": "code",
   "execution_count": 21,
   "metadata": {},
   "outputs": [],
   "source": [
    "#Change columns' names\n",
    "df.rename(columns={'tripduration': 'duration_sec' , 'starttime': 'start_time', \n",
    "                   'start station name':'start_station_name', 'end station name':'end_station_name',\n",
    "                   'stoptime': 'stop_time', 'bikeid':'bike_id', 'usertype':'user_type', 'birth year': 'birth_year'}, inplace =True)"
   ]
  },
  {
   "cell_type": "code",
   "execution_count": 22,
   "metadata": {},
   "outputs": [
    {
     "data": {
      "text/plain": [
       "Index(['duration_sec', 'start_time', 'stop_time', 'start_station_name',\n",
       "       'end_station_name', 'bike_id', 'user_type', 'birth_year', 'gender'],\n",
       "      dtype='object')"
      ]
     },
     "execution_count": 22,
     "metadata": {},
     "output_type": "execute_result"
    }
   ],
   "source": [
    "df.columns"
   ]
  },
  {
   "cell_type": "markdown",
   "metadata": {},
   "source": [
    "#### Fixing data types"
   ]
  },
  {
   "cell_type": "code",
   "execution_count": 23,
   "metadata": {},
   "outputs": [],
   "source": [
    "# string to datetime\n",
    "df['start_time'] = pd.to_datetime(df['start_time'].str.strip())\n",
    "df['stop_time'] = pd.to_datetime(df['stop_time'].str.strip())"
   ]
  },
  {
   "cell_type": "code",
   "execution_count": 24,
   "metadata": {},
   "outputs": [],
   "source": [
    "# integer to object\n",
    "df['bike_id'] = df['bike_id'].apply(str)"
   ]
  },
  {
   "cell_type": "code",
   "execution_count": 25,
   "metadata": {},
   "outputs": [],
   "source": [
    "# integer to category\n",
    "df['gender'] = df['gender'].astype('category')"
   ]
  },
  {
   "cell_type": "markdown",
   "metadata": {},
   "source": [
    "#### Extract weekdays, day, and hour from the dataset"
   ]
  },
  {
   "cell_type": "code",
   "execution_count": 26,
   "metadata": {},
   "outputs": [],
   "source": [
    "#Extract start month name\n",
    "df['start_time_month_name'] = df ['start_time'].dt.strftime('%B')"
   ]
  },
  {
   "cell_type": "code",
   "execution_count": 27,
   "metadata": {},
   "outputs": [],
   "source": [
    "#extract start time weekdays\n",
    "df['start_time_weekday'] = df ['start_time'].dt.strftime('%a')"
   ]
  },
  {
   "cell_type": "code",
   "execution_count": 28,
   "metadata": {},
   "outputs": [],
   "source": [
    "#extract start time day\n",
    "df['start_time_day'] = df['start_time'].dt.day.astype(int)"
   ]
  },
  {
   "cell_type": "code",
   "execution_count": 29,
   "metadata": {},
   "outputs": [],
   "source": [
    "#extract start time hour\n",
    "df['start_time_hour'] = df['start_time'].dt.hour"
   ]
  },
  {
   "cell_type": "markdown",
   "metadata": {},
   "source": [
    "df.drop(['start_time'], axis =1, inplace=True)"
   ]
  },
  {
   "cell_type": "markdown",
   "metadata": {},
   "source": [
    "#### Calculate the rider's age "
   ]
  },
  {
   "cell_type": "code",
   "execution_count": 30,
   "metadata": {},
   "outputs": [],
   "source": [
    "#calucaling the rider's age\\\n",
    "df['rider_age'] = 2020 - df['birth_year']"
   ]
  },
  {
   "cell_type": "code",
   "execution_count": 31,
   "metadata": {},
   "outputs": [
    {
     "name": "stdout",
     "output_type": "stream",
     "text": [
      "<class 'pandas.core.frame.DataFrame'>\n",
      "RangeIndex: 22962 entries, 0 to 22961\n",
      "Data columns (total 14 columns):\n",
      " #   Column                 Non-Null Count  Dtype         \n",
      "---  ------                 --------------  -----         \n",
      " 0   duration_sec           22962 non-null  int64         \n",
      " 1   start_time             22962 non-null  datetime64[ns]\n",
      " 2   stop_time              22962 non-null  datetime64[ns]\n",
      " 3   start_station_name     22962 non-null  object        \n",
      " 4   end_station_name       22962 non-null  object        \n",
      " 5   bike_id                22962 non-null  object        \n",
      " 6   user_type              22962 non-null  object        \n",
      " 7   birth_year             22962 non-null  int64         \n",
      " 8   gender                 22962 non-null  category      \n",
      " 9   start_time_month_name  22962 non-null  object        \n",
      " 10  start_time_weekday     22962 non-null  object        \n",
      " 11  start_time_day         22962 non-null  int32         \n",
      " 12  start_time_hour        22962 non-null  int64         \n",
      " 13  rider_age              22962 non-null  int64         \n",
      "dtypes: category(1), datetime64[ns](2), int32(1), int64(4), object(6)\n",
      "memory usage: 2.2+ MB\n"
     ]
    }
   ],
   "source": [
    "df.info()"
   ]
  },
  {
   "cell_type": "code",
   "execution_count": 32,
   "metadata": {},
   "outputs": [
    {
     "data": {
      "text/html": [
       "<div>\n",
       "<style scoped>\n",
       "    .dataframe tbody tr th:only-of-type {\n",
       "        vertical-align: middle;\n",
       "    }\n",
       "\n",
       "    .dataframe tbody tr th {\n",
       "        vertical-align: top;\n",
       "    }\n",
       "\n",
       "    .dataframe thead th {\n",
       "        text-align: right;\n",
       "    }\n",
       "</style>\n",
       "<table border=\"1\" class=\"dataframe\">\n",
       "  <thead>\n",
       "    <tr style=\"text-align: right;\">\n",
       "      <th></th>\n",
       "      <th>duration_sec</th>\n",
       "      <th>start_time</th>\n",
       "      <th>stop_time</th>\n",
       "      <th>start_station_name</th>\n",
       "      <th>end_station_name</th>\n",
       "      <th>bike_id</th>\n",
       "      <th>user_type</th>\n",
       "      <th>birth_year</th>\n",
       "      <th>gender</th>\n",
       "      <th>start_time_month_name</th>\n",
       "      <th>start_time_weekday</th>\n",
       "      <th>start_time_day</th>\n",
       "      <th>start_time_hour</th>\n",
       "      <th>rider_age</th>\n",
       "    </tr>\n",
       "  </thead>\n",
       "  <tbody>\n",
       "    <tr>\n",
       "      <th>0</th>\n",
       "      <td>841</td>\n",
       "      <td>2020-02-01 00:02:13.765</td>\n",
       "      <td>2020-02-01 00:16:15.472</td>\n",
       "      <td>Newport Pkwy</td>\n",
       "      <td>Van Vorst Park</td>\n",
       "      <td>42217</td>\n",
       "      <td>Subscriber</td>\n",
       "      <td>1980</td>\n",
       "      <td>1</td>\n",
       "      <td>February</td>\n",
       "      <td>Sat</td>\n",
       "      <td>1</td>\n",
       "      <td>0</td>\n",
       "      <td>40</td>\n",
       "    </tr>\n",
       "    <tr>\n",
       "      <th>1</th>\n",
       "      <td>206</td>\n",
       "      <td>2020-02-01 00:16:11.385</td>\n",
       "      <td>2020-02-01 00:19:37.446</td>\n",
       "      <td>Manila &amp; 1st</td>\n",
       "      <td>Harborside</td>\n",
       "      <td>42160</td>\n",
       "      <td>Subscriber</td>\n",
       "      <td>1990</td>\n",
       "      <td>1</td>\n",
       "      <td>February</td>\n",
       "      <td>Sat</td>\n",
       "      <td>1</td>\n",
       "      <td>0</td>\n",
       "      <td>30</td>\n",
       "    </tr>\n",
       "    <tr>\n",
       "      <th>2</th>\n",
       "      <td>859</td>\n",
       "      <td>2020-02-01 00:23:22.109</td>\n",
       "      <td>2020-02-01 00:37:41.506</td>\n",
       "      <td>City Hall</td>\n",
       "      <td>Lafayette Park</td>\n",
       "      <td>42204</td>\n",
       "      <td>Customer</td>\n",
       "      <td>1991</td>\n",
       "      <td>1</td>\n",
       "      <td>February</td>\n",
       "      <td>Sat</td>\n",
       "      <td>1</td>\n",
       "      <td>0</td>\n",
       "      <td>29</td>\n",
       "    </tr>\n",
       "    <tr>\n",
       "      <th>3</th>\n",
       "      <td>693</td>\n",
       "      <td>2020-02-01 00:25:14.517</td>\n",
       "      <td>2020-02-01 00:36:48.028</td>\n",
       "      <td>City Hall</td>\n",
       "      <td>Communipaw &amp; Berry Lane</td>\n",
       "      <td>42165</td>\n",
       "      <td>Subscriber</td>\n",
       "      <td>1987</td>\n",
       "      <td>1</td>\n",
       "      <td>February</td>\n",
       "      <td>Sat</td>\n",
       "      <td>1</td>\n",
       "      <td>0</td>\n",
       "      <td>33</td>\n",
       "    </tr>\n",
       "    <tr>\n",
       "      <th>4</th>\n",
       "      <td>1473</td>\n",
       "      <td>2020-02-01 00:32:30.505</td>\n",
       "      <td>2020-02-01 00:57:04.374</td>\n",
       "      <td>Liberty Light Rail</td>\n",
       "      <td>Harborside</td>\n",
       "      <td>26156</td>\n",
       "      <td>Customer</td>\n",
       "      <td>1969</td>\n",
       "      <td>0</td>\n",
       "      <td>February</td>\n",
       "      <td>Sat</td>\n",
       "      <td>1</td>\n",
       "      <td>0</td>\n",
       "      <td>51</td>\n",
       "    </tr>\n",
       "    <tr>\n",
       "      <th>5</th>\n",
       "      <td>129</td>\n",
       "      <td>2020-02-01 00:34:14.438</td>\n",
       "      <td>2020-02-01 00:36:23.554</td>\n",
       "      <td>Newport PATH</td>\n",
       "      <td>Newport Pkwy</td>\n",
       "      <td>29302</td>\n",
       "      <td>Subscriber</td>\n",
       "      <td>1992</td>\n",
       "      <td>2</td>\n",
       "      <td>February</td>\n",
       "      <td>Sat</td>\n",
       "      <td>1</td>\n",
       "      <td>0</td>\n",
       "      <td>28</td>\n",
       "    </tr>\n",
       "    <tr>\n",
       "      <th>6</th>\n",
       "      <td>394</td>\n",
       "      <td>2020-02-01 00:36:33.006</td>\n",
       "      <td>2020-02-01 00:43:07.413</td>\n",
       "      <td>Dey St</td>\n",
       "      <td>Leonard Gordon Park</td>\n",
       "      <td>42241</td>\n",
       "      <td>Subscriber</td>\n",
       "      <td>1969</td>\n",
       "      <td>1</td>\n",
       "      <td>February</td>\n",
       "      <td>Sat</td>\n",
       "      <td>1</td>\n",
       "      <td>0</td>\n",
       "      <td>51</td>\n",
       "    </tr>\n",
       "    <tr>\n",
       "      <th>7</th>\n",
       "      <td>279</td>\n",
       "      <td>2020-02-01 00:52:29.410</td>\n",
       "      <td>2020-02-01 00:57:08.521</td>\n",
       "      <td>Warren St</td>\n",
       "      <td>Newark Ave</td>\n",
       "      <td>42184</td>\n",
       "      <td>Subscriber</td>\n",
       "      <td>1987</td>\n",
       "      <td>1</td>\n",
       "      <td>February</td>\n",
       "      <td>Sat</td>\n",
       "      <td>1</td>\n",
       "      <td>0</td>\n",
       "      <td>33</td>\n",
       "    </tr>\n",
       "    <tr>\n",
       "      <th>8</th>\n",
       "      <td>242</td>\n",
       "      <td>2020-02-01 01:11:13.010</td>\n",
       "      <td>2020-02-01 01:15:15.382</td>\n",
       "      <td>Hamilton Park</td>\n",
       "      <td>Van Vorst Park</td>\n",
       "      <td>42254</td>\n",
       "      <td>Subscriber</td>\n",
       "      <td>1989</td>\n",
       "      <td>1</td>\n",
       "      <td>February</td>\n",
       "      <td>Sat</td>\n",
       "      <td>1</td>\n",
       "      <td>1</td>\n",
       "      <td>31</td>\n",
       "    </tr>\n",
       "    <tr>\n",
       "      <th>9</th>\n",
       "      <td>451</td>\n",
       "      <td>2020-02-01 01:16:04.946</td>\n",
       "      <td>2020-02-01 01:23:36.458</td>\n",
       "      <td>Van Vorst Park</td>\n",
       "      <td>Lafayette Park</td>\n",
       "      <td>42217</td>\n",
       "      <td>Subscriber</td>\n",
       "      <td>1999</td>\n",
       "      <td>1</td>\n",
       "      <td>February</td>\n",
       "      <td>Sat</td>\n",
       "      <td>1</td>\n",
       "      <td>1</td>\n",
       "      <td>21</td>\n",
       "    </tr>\n",
       "  </tbody>\n",
       "</table>\n",
       "</div>"
      ],
      "text/plain": [
       "   duration_sec              start_time               stop_time  \\\n",
       "0           841 2020-02-01 00:02:13.765 2020-02-01 00:16:15.472   \n",
       "1           206 2020-02-01 00:16:11.385 2020-02-01 00:19:37.446   \n",
       "2           859 2020-02-01 00:23:22.109 2020-02-01 00:37:41.506   \n",
       "3           693 2020-02-01 00:25:14.517 2020-02-01 00:36:48.028   \n",
       "4          1473 2020-02-01 00:32:30.505 2020-02-01 00:57:04.374   \n",
       "5           129 2020-02-01 00:34:14.438 2020-02-01 00:36:23.554   \n",
       "6           394 2020-02-01 00:36:33.006 2020-02-01 00:43:07.413   \n",
       "7           279 2020-02-01 00:52:29.410 2020-02-01 00:57:08.521   \n",
       "8           242 2020-02-01 01:11:13.010 2020-02-01 01:15:15.382   \n",
       "9           451 2020-02-01 01:16:04.946 2020-02-01 01:23:36.458   \n",
       "\n",
       "   start_station_name         end_station_name bike_id   user_type  \\\n",
       "0        Newport Pkwy           Van Vorst Park   42217  Subscriber   \n",
       "1        Manila & 1st               Harborside   42160  Subscriber   \n",
       "2           City Hall           Lafayette Park   42204    Customer   \n",
       "3           City Hall  Communipaw & Berry Lane   42165  Subscriber   \n",
       "4  Liberty Light Rail               Harborside   26156    Customer   \n",
       "5        Newport PATH             Newport Pkwy   29302  Subscriber   \n",
       "6              Dey St      Leonard Gordon Park   42241  Subscriber   \n",
       "7           Warren St               Newark Ave   42184  Subscriber   \n",
       "8       Hamilton Park           Van Vorst Park   42254  Subscriber   \n",
       "9      Van Vorst Park           Lafayette Park   42217  Subscriber   \n",
       "\n",
       "   birth_year gender start_time_month_name start_time_weekday  start_time_day  \\\n",
       "0        1980      1              February                Sat               1   \n",
       "1        1990      1              February                Sat               1   \n",
       "2        1991      1              February                Sat               1   \n",
       "3        1987      1              February                Sat               1   \n",
       "4        1969      0              February                Sat               1   \n",
       "5        1992      2              February                Sat               1   \n",
       "6        1969      1              February                Sat               1   \n",
       "7        1987      1              February                Sat               1   \n",
       "8        1989      1              February                Sat               1   \n",
       "9        1999      1              February                Sat               1   \n",
       "\n",
       "   start_time_hour  rider_age  \n",
       "0                0         40  \n",
       "1                0         30  \n",
       "2                0         29  \n",
       "3                0         33  \n",
       "4                0         51  \n",
       "5                0         28  \n",
       "6                0         51  \n",
       "7                0         33  \n",
       "8                1         31  \n",
       "9                1         21  "
      ]
     },
     "execution_count": 32,
     "metadata": {},
     "output_type": "execute_result"
    }
   ],
   "source": [
    "df.head(10)"
   ]
  },
  {
   "cell_type": "markdown",
   "metadata": {},
   "source": [
    "### Data Wrangling Summary\n",
    "- drop unnecessary columns\n",
    "#### Fixing data types\n",
    "- string to datetime\n",
    "- integer to object\n",
    "- integer to category\n"
   ]
  },
  {
   "cell_type": "markdown",
   "metadata": {},
   "source": [
    "### What is the structure of your dataset?\n",
    "The dataset has 22,962 rows and columns. This means there were 22,962 rides that have been taken in the month of February 2020.\n",
    "\n",
    "\n",
    "- trip_duration: total time in a single trip (seconds)\n",
    "- start_time/stop_time: start or end time for a trip\n",
    "- start_station_name/end_station_name: name of the location where the trip was taken or ended.\n",
    "- bike_id : id number for a bike\n",
    "- user_type: (Customer = 24-hour pass or 3-day pass user; Subscriber = Annual Member)\n",
    "- birth_year : birth year for a customer\n",
    "- Gender (Zero=unknown; 1=male; 2=female)"
   ]
  },
  {
   "cell_type": "markdown",
   "metadata": {},
   "source": [
    "### What is/are the main feature(s) of interest in your dataset?\n",
    "I am interested in the following\n",
    "- highest trip duration\n",
    "- what kind of a user took the most ride\n",
    "- which gender took the most rides\n",
    "- top start/end location's names"
   ]
  },
  {
   "cell_type": "markdown",
   "metadata": {},
   "source": [
    "### What features in the dataset do you think will help support your investigation into your feature(s) of interest?\n",
    "- trip_duration: total time in a single trip (seconds)\n",
    "- user_type: (Customer = 24-hour pass or 3-day pass user; Subscriber = Annual Member)\n",
    "- birth_year : birth year for a customer\n",
    "- Gender (Zero=unknown; 1=male; 2=female)"
   ]
  },
  {
   "cell_type": "markdown",
   "metadata": {},
   "source": [
    "## Univariate Exploration"
   ]
  },
  {
   "cell_type": "markdown",
   "metadata": {},
   "source": [
    "I'm going to analyze the riders' total trips by their gender, age, and user type. Next, I look into which stations are most popular."
   ]
  },
  {
   "cell_type": "code",
   "execution_count": 33,
   "metadata": {},
   "outputs": [
    {
     "data": {
      "text/html": [
       "<div>\n",
       "<style scoped>\n",
       "    .dataframe tbody tr th:only-of-type {\n",
       "        vertical-align: middle;\n",
       "    }\n",
       "\n",
       "    .dataframe tbody tr th {\n",
       "        vertical-align: top;\n",
       "    }\n",
       "\n",
       "    .dataframe thead th {\n",
       "        text-align: right;\n",
       "    }\n",
       "</style>\n",
       "<table border=\"1\" class=\"dataframe\">\n",
       "  <thead>\n",
       "    <tr style=\"text-align: right;\">\n",
       "      <th></th>\n",
       "      <th>duration_sec</th>\n",
       "      <th>start_time</th>\n",
       "      <th>stop_time</th>\n",
       "      <th>start_station_name</th>\n",
       "      <th>end_station_name</th>\n",
       "      <th>bike_id</th>\n",
       "      <th>user_type</th>\n",
       "      <th>birth_year</th>\n",
       "      <th>gender</th>\n",
       "      <th>start_time_month_name</th>\n",
       "      <th>start_time_weekday</th>\n",
       "      <th>start_time_day</th>\n",
       "      <th>start_time_hour</th>\n",
       "      <th>rider_age</th>\n",
       "    </tr>\n",
       "  </thead>\n",
       "  <tbody>\n",
       "    <tr>\n",
       "      <th>0</th>\n",
       "      <td>841</td>\n",
       "      <td>2020-02-01 00:02:13.765</td>\n",
       "      <td>2020-02-01 00:16:15.472</td>\n",
       "      <td>Newport Pkwy</td>\n",
       "      <td>Van Vorst Park</td>\n",
       "      <td>42217</td>\n",
       "      <td>Subscriber</td>\n",
       "      <td>1980</td>\n",
       "      <td>1</td>\n",
       "      <td>February</td>\n",
       "      <td>Sat</td>\n",
       "      <td>1</td>\n",
       "      <td>0</td>\n",
       "      <td>40</td>\n",
       "    </tr>\n",
       "    <tr>\n",
       "      <th>1</th>\n",
       "      <td>206</td>\n",
       "      <td>2020-02-01 00:16:11.385</td>\n",
       "      <td>2020-02-01 00:19:37.446</td>\n",
       "      <td>Manila &amp; 1st</td>\n",
       "      <td>Harborside</td>\n",
       "      <td>42160</td>\n",
       "      <td>Subscriber</td>\n",
       "      <td>1990</td>\n",
       "      <td>1</td>\n",
       "      <td>February</td>\n",
       "      <td>Sat</td>\n",
       "      <td>1</td>\n",
       "      <td>0</td>\n",
       "      <td>30</td>\n",
       "    </tr>\n",
       "    <tr>\n",
       "      <th>2</th>\n",
       "      <td>859</td>\n",
       "      <td>2020-02-01 00:23:22.109</td>\n",
       "      <td>2020-02-01 00:37:41.506</td>\n",
       "      <td>City Hall</td>\n",
       "      <td>Lafayette Park</td>\n",
       "      <td>42204</td>\n",
       "      <td>Customer</td>\n",
       "      <td>1991</td>\n",
       "      <td>1</td>\n",
       "      <td>February</td>\n",
       "      <td>Sat</td>\n",
       "      <td>1</td>\n",
       "      <td>0</td>\n",
       "      <td>29</td>\n",
       "    </tr>\n",
       "    <tr>\n",
       "      <th>3</th>\n",
       "      <td>693</td>\n",
       "      <td>2020-02-01 00:25:14.517</td>\n",
       "      <td>2020-02-01 00:36:48.028</td>\n",
       "      <td>City Hall</td>\n",
       "      <td>Communipaw &amp; Berry Lane</td>\n",
       "      <td>42165</td>\n",
       "      <td>Subscriber</td>\n",
       "      <td>1987</td>\n",
       "      <td>1</td>\n",
       "      <td>February</td>\n",
       "      <td>Sat</td>\n",
       "      <td>1</td>\n",
       "      <td>0</td>\n",
       "      <td>33</td>\n",
       "    </tr>\n",
       "    <tr>\n",
       "      <th>4</th>\n",
       "      <td>1473</td>\n",
       "      <td>2020-02-01 00:32:30.505</td>\n",
       "      <td>2020-02-01 00:57:04.374</td>\n",
       "      <td>Liberty Light Rail</td>\n",
       "      <td>Harborside</td>\n",
       "      <td>26156</td>\n",
       "      <td>Customer</td>\n",
       "      <td>1969</td>\n",
       "      <td>0</td>\n",
       "      <td>February</td>\n",
       "      <td>Sat</td>\n",
       "      <td>1</td>\n",
       "      <td>0</td>\n",
       "      <td>51</td>\n",
       "    </tr>\n",
       "  </tbody>\n",
       "</table>\n",
       "</div>"
      ],
      "text/plain": [
       "   duration_sec              start_time               stop_time  \\\n",
       "0           841 2020-02-01 00:02:13.765 2020-02-01 00:16:15.472   \n",
       "1           206 2020-02-01 00:16:11.385 2020-02-01 00:19:37.446   \n",
       "2           859 2020-02-01 00:23:22.109 2020-02-01 00:37:41.506   \n",
       "3           693 2020-02-01 00:25:14.517 2020-02-01 00:36:48.028   \n",
       "4          1473 2020-02-01 00:32:30.505 2020-02-01 00:57:04.374   \n",
       "\n",
       "   start_station_name         end_station_name bike_id   user_type  \\\n",
       "0        Newport Pkwy           Van Vorst Park   42217  Subscriber   \n",
       "1        Manila & 1st               Harborside   42160  Subscriber   \n",
       "2           City Hall           Lafayette Park   42204    Customer   \n",
       "3           City Hall  Communipaw & Berry Lane   42165  Subscriber   \n",
       "4  Liberty Light Rail               Harborside   26156    Customer   \n",
       "\n",
       "   birth_year gender start_time_month_name start_time_weekday  start_time_day  \\\n",
       "0        1980      1              February                Sat               1   \n",
       "1        1990      1              February                Sat               1   \n",
       "2        1991      1              February                Sat               1   \n",
       "3        1987      1              February                Sat               1   \n",
       "4        1969      0              February                Sat               1   \n",
       "\n",
       "   start_time_hour  rider_age  \n",
       "0                0         40  \n",
       "1                0         30  \n",
       "2                0         29  \n",
       "3                0         33  \n",
       "4                0         51  "
      ]
     },
     "execution_count": 33,
     "metadata": {},
     "output_type": "execute_result"
    }
   ],
   "source": [
    "df.head()"
   ]
  },
  {
   "cell_type": "markdown",
   "metadata": {},
   "source": [
    "### Trip Duration"
   ]
  },
  {
   "cell_type": "code",
   "execution_count": 34,
   "metadata": {
    "scrolled": true
   },
   "outputs": [
    {
     "data": {
      "text/plain": [
       "count    2.296200e+04\n",
       "mean     6.656929e+02\n",
       "std      1.092407e+04\n",
       "min      6.100000e+01\n",
       "25%      2.260000e+02\n",
       "50%      3.295000e+02\n",
       "75%      5.170000e+02\n",
       "max      1.495458e+06\n",
       "Name: duration_sec, dtype: float64"
      ]
     },
     "execution_count": 34,
     "metadata": {},
     "output_type": "execute_result"
    }
   ],
   "source": [
    "df['duration_sec'].describe()"
   ]
  },
  {
   "cell_type": "markdown",
   "metadata": {},
   "source": [
    "#### The max trip duration is 1,495, 458 seconds which is unusal"
   ]
  },
  {
   "cell_type": "markdown",
   "metadata": {},
   "source": [
    "#### Trip duration (seconds) is not normally distributed!\n",
    "- IQR : Q3 - Q1 = 517 - 226 = 291 seconds\n",
    "- Upper Whisker Bound: (1.5*IQR)+ Q3 = 436.5 + 517 = 953.5 seconds"
   ]
  },
  {
   "cell_type": "markdown",
   "metadata": {},
   "source": [
    "#### Statistic analysis\n",
    "- About 75% of the time, riders spend on bicycles about 517 seconds or 517/60 = 8.67 minutes\n",
    "- Riders take bikes at least for 61 seconds\n",
    "- On average, 665.69 seconds which means 11 minutes and 9 seconds\n"
   ]
  },
  {
   "cell_type": "code",
   "execution_count": 35,
   "metadata": {},
   "outputs": [
    {
     "data": {
      "text/html": [
       "<div>\n",
       "<style scoped>\n",
       "    .dataframe tbody tr th:only-of-type {\n",
       "        vertical-align: middle;\n",
       "    }\n",
       "\n",
       "    .dataframe tbody tr th {\n",
       "        vertical-align: top;\n",
       "    }\n",
       "\n",
       "    .dataframe thead th {\n",
       "        text-align: right;\n",
       "    }\n",
       "</style>\n",
       "<table border=\"1\" class=\"dataframe\">\n",
       "  <thead>\n",
       "    <tr style=\"text-align: right;\">\n",
       "      <th></th>\n",
       "      <th>duration_sec</th>\n",
       "      <th>start_time</th>\n",
       "      <th>stop_time</th>\n",
       "      <th>start_station_name</th>\n",
       "      <th>end_station_name</th>\n",
       "      <th>bike_id</th>\n",
       "      <th>user_type</th>\n",
       "      <th>birth_year</th>\n",
       "      <th>gender</th>\n",
       "      <th>start_time_month_name</th>\n",
       "      <th>start_time_weekday</th>\n",
       "      <th>start_time_day</th>\n",
       "      <th>start_time_hour</th>\n",
       "      <th>rider_age</th>\n",
       "    </tr>\n",
       "  </thead>\n",
       "  <tbody>\n",
       "    <tr>\n",
       "      <th>4860</th>\n",
       "      <td>345608</td>\n",
       "      <td>2020-02-06 18:52:31.856</td>\n",
       "      <td>2020-02-10 18:52:40.774</td>\n",
       "      <td>Sip Ave</td>\n",
       "      <td>Atlantic Ave &amp; Fort Greene Pl</td>\n",
       "      <td>42217</td>\n",
       "      <td>Customer</td>\n",
       "      <td>1994</td>\n",
       "      <td>2</td>\n",
       "      <td>February</td>\n",
       "      <td>Thu</td>\n",
       "      <td>6</td>\n",
       "      <td>18</td>\n",
       "      <td>26</td>\n",
       "    </tr>\n",
       "    <tr>\n",
       "      <th>4994</th>\n",
       "      <td>1495458</td>\n",
       "      <td>2020-02-06 23:36:42.394</td>\n",
       "      <td>2020-02-24 07:01:00.938</td>\n",
       "      <td>JC Medical Center</td>\n",
       "      <td>Grove St PATH</td>\n",
       "      <td>42228</td>\n",
       "      <td>Customer</td>\n",
       "      <td>1969</td>\n",
       "      <td>0</td>\n",
       "      <td>February</td>\n",
       "      <td>Thu</td>\n",
       "      <td>6</td>\n",
       "      <td>23</td>\n",
       "      <td>51</td>\n",
       "    </tr>\n",
       "  </tbody>\n",
       "</table>\n",
       "</div>"
      ],
      "text/plain": [
       "      duration_sec              start_time               stop_time  \\\n",
       "4860        345608 2020-02-06 18:52:31.856 2020-02-10 18:52:40.774   \n",
       "4994       1495458 2020-02-06 23:36:42.394 2020-02-24 07:01:00.938   \n",
       "\n",
       "     start_station_name               end_station_name bike_id user_type  \\\n",
       "4860            Sip Ave  Atlantic Ave & Fort Greene Pl   42217  Customer   \n",
       "4994  JC Medical Center                  Grove St PATH   42228  Customer   \n",
       "\n",
       "      birth_year gender start_time_month_name start_time_weekday  \\\n",
       "4860        1994      2              February                Thu   \n",
       "4994        1969      0              February                Thu   \n",
       "\n",
       "      start_time_day  start_time_hour  rider_age  \n",
       "4860               6               18         26  \n",
       "4994               6               23         51  "
      ]
     },
     "execution_count": 35,
     "metadata": {},
     "output_type": "execute_result"
    }
   ],
   "source": [
    "df[df['duration_sec'] >=300000]"
   ]
  },
  {
   "cell_type": "markdown",
   "metadata": {},
   "source": [
    "#### The max trip duration is 1,495, 458 seconds which is unusal. Let's remove this outlier"
   ]
  },
  {
   "cell_type": "code",
   "execution_count": 36,
   "metadata": {},
   "outputs": [],
   "source": [
    "#only keeping trip duration below 500,000 seconds\n",
    "df = df[df['duration_sec'] <=300000]"
   ]
  },
  {
   "cell_type": "code",
   "execution_count": 37,
   "metadata": {},
   "outputs": [
    {
     "data": {
      "text/html": [
       "<div>\n",
       "<style scoped>\n",
       "    .dataframe tbody tr th:only-of-type {\n",
       "        vertical-align: middle;\n",
       "    }\n",
       "\n",
       "    .dataframe tbody tr th {\n",
       "        vertical-align: top;\n",
       "    }\n",
       "\n",
       "    .dataframe thead th {\n",
       "        text-align: right;\n",
       "    }\n",
       "</style>\n",
       "<table border=\"1\" class=\"dataframe\">\n",
       "  <thead>\n",
       "    <tr style=\"text-align: right;\">\n",
       "      <th></th>\n",
       "      <th>duration_sec</th>\n",
       "      <th>start_time</th>\n",
       "      <th>stop_time</th>\n",
       "      <th>start_station_name</th>\n",
       "      <th>end_station_name</th>\n",
       "      <th>bike_id</th>\n",
       "      <th>user_type</th>\n",
       "      <th>birth_year</th>\n",
       "      <th>gender</th>\n",
       "      <th>start_time_month_name</th>\n",
       "      <th>start_time_weekday</th>\n",
       "      <th>start_time_day</th>\n",
       "      <th>start_time_hour</th>\n",
       "      <th>rider_age</th>\n",
       "    </tr>\n",
       "  </thead>\n",
       "  <tbody>\n",
       "  </tbody>\n",
       "</table>\n",
       "</div>"
      ],
      "text/plain": [
       "Empty DataFrame\n",
       "Columns: [duration_sec, start_time, stop_time, start_station_name, end_station_name, bike_id, user_type, birth_year, gender, start_time_month_name, start_time_weekday, start_time_day, start_time_hour, rider_age]\n",
       "Index: []"
      ]
     },
     "execution_count": 37,
     "metadata": {},
     "output_type": "execute_result"
    }
   ],
   "source": [
    "df[df['duration_sec'] >=300000]"
   ]
  },
  {
   "cell_type": "code",
   "execution_count": 38,
   "metadata": {},
   "outputs": [],
   "source": [
    "# outlier has been removed"
   ]
  },
  {
   "cell_type": "code",
   "execution_count": 39,
   "metadata": {},
   "outputs": [],
   "source": [
    "# Save the clean data\n",
    "df.to_csv('clean_master_file.csv', index = False)"
   ]
  },
  {
   "cell_type": "markdown",
   "metadata": {},
   "source": [
    "#### Performing Normal Distribution"
   ]
  },
  {
   "cell_type": "code",
   "execution_count": 40,
   "metadata": {},
   "outputs": [
    {
     "data": {
      "text/plain": [
       "Text(0.5, 1.0, 'Normal Distribution of Trip Duration')"
      ]
     },
     "execution_count": 40,
     "metadata": {},
     "output_type": "execute_result"
    },
    {
     "data": {
      "image/png": "[encoded data removed]",
      "text/plain": [
       "<Figure size 1080x720 with 1 Axes>"
      ]
     },
     "metadata": {
      "needs_background": "light"
     },
     "output_type": "display_data"
    }
   ],
   "source": [
    "log_binsize = 0.025\n",
    "bins = 10 ** np.arange(0, np.log10(df['duration_sec'].max())+log_binsize, log_binsize)\n",
    "\n",
    "\n",
    "plt.figure(figsize = [15,10])\n",
    "plt.hist(data = df, x = 'duration_sec', bins =bins)\n",
    "plt.xscale('log')\n",
    "plt.xticks([50, 100, 500, 1000, 10000, 5000, 10000, 100000, 300000], [50, 100, 500, 1000, 10000, 5000, 10000, 100000, 300000])\n",
    "plt.xlabel('Duration (secs)')\n",
    "plt.ylabel('total trips')\n",
    "plt.title('Normal Distribution of Trip Duration')"
   ]
  },
  {
   "cell_type": "markdown",
   "metadata": {},
   "source": [
    "Trip duration is now normally distributed."
   ]
  },
  {
   "cell_type": "markdown",
   "metadata": {},
   "source": [
    "#### Rider's age"
   ]
  },
  {
   "cell_type": "code",
   "execution_count": 41,
   "metadata": {},
   "outputs": [
    {
     "data": {
      "text/plain": [
       "count    22960.000000\n",
       "mean        38.870035\n",
       "std         10.300748\n",
       "min         17.000000\n",
       "25%         31.000000\n",
       "50%         37.000000\n",
       "75%         44.000000\n",
       "max        132.000000\n",
       "Name: rider_age, dtype: float64"
      ]
     },
     "execution_count": 41,
     "metadata": {},
     "output_type": "execute_result"
    }
   ],
   "source": [
    "df.rider_age.describe()"
   ]
  },
  {
   "cell_type": "code",
   "execution_count": 42,
   "metadata": {},
   "outputs": [],
   "source": [
    "#### a rider's age 132! this is unsual. Let's remove this outliers."
   ]
  },
  {
   "cell_type": "code",
   "execution_count": 43,
   "metadata": {},
   "outputs": [
    {
     "data": {
      "text/html": [
       "<div>\n",
       "<style scoped>\n",
       "    .dataframe tbody tr th:only-of-type {\n",
       "        vertical-align: middle;\n",
       "    }\n",
       "\n",
       "    .dataframe tbody tr th {\n",
       "        vertical-align: top;\n",
       "    }\n",
       "\n",
       "    .dataframe thead th {\n",
       "        text-align: right;\n",
       "    }\n",
       "</style>\n",
       "<table border=\"1\" class=\"dataframe\">\n",
       "  <thead>\n",
       "    <tr style=\"text-align: right;\">\n",
       "      <th></th>\n",
       "      <th>duration_sec</th>\n",
       "      <th>start_time</th>\n",
       "      <th>stop_time</th>\n",
       "      <th>start_station_name</th>\n",
       "      <th>end_station_name</th>\n",
       "      <th>bike_id</th>\n",
       "      <th>user_type</th>\n",
       "      <th>birth_year</th>\n",
       "      <th>gender</th>\n",
       "      <th>start_time_month_name</th>\n",
       "      <th>start_time_weekday</th>\n",
       "      <th>start_time_day</th>\n",
       "      <th>start_time_hour</th>\n",
       "      <th>rider_age</th>\n",
       "    </tr>\n",
       "  </thead>\n",
       "  <tbody>\n",
       "    <tr>\n",
       "      <th>3038</th>\n",
       "      <td>178</td>\n",
       "      <td>2020-02-04 18:54:41.561</td>\n",
       "      <td>2020-02-04 18:57:39.707</td>\n",
       "      <td>Warren St</td>\n",
       "      <td>Grove St PATH</td>\n",
       "      <td>29496</td>\n",
       "      <td>Subscriber</td>\n",
       "      <td>1888</td>\n",
       "      <td>0</td>\n",
       "      <td>February</td>\n",
       "      <td>Tue</td>\n",
       "      <td>4</td>\n",
       "      <td>18</td>\n",
       "      <td>132</td>\n",
       "    </tr>\n",
       "    <tr>\n",
       "      <th>3694</th>\n",
       "      <td>976</td>\n",
       "      <td>2020-02-05 12:48:53.916</td>\n",
       "      <td>2020-02-05 13:05:09.981</td>\n",
       "      <td>Washington St</td>\n",
       "      <td>Washington St</td>\n",
       "      <td>42220</td>\n",
       "      <td>Subscriber</td>\n",
       "      <td>1900</td>\n",
       "      <td>1</td>\n",
       "      <td>February</td>\n",
       "      <td>Wed</td>\n",
       "      <td>5</td>\n",
       "      <td>12</td>\n",
       "      <td>120</td>\n",
       "    </tr>\n",
       "    <tr>\n",
       "      <th>8507</th>\n",
       "      <td>226</td>\n",
       "      <td>2020-02-12 07:47:17.171</td>\n",
       "      <td>2020-02-12 07:51:03.941</td>\n",
       "      <td>Grove St PATH</td>\n",
       "      <td>Warren St</td>\n",
       "      <td>42185</td>\n",
       "      <td>Subscriber</td>\n",
       "      <td>1888</td>\n",
       "      <td>0</td>\n",
       "      <td>February</td>\n",
       "      <td>Wed</td>\n",
       "      <td>12</td>\n",
       "      <td>7</td>\n",
       "      <td>132</td>\n",
       "    </tr>\n",
       "    <tr>\n",
       "      <th>16074</th>\n",
       "      <td>378</td>\n",
       "      <td>2020-02-21 13:39:46.219</td>\n",
       "      <td>2020-02-21 13:46:04.617</td>\n",
       "      <td>Grove St PATH</td>\n",
       "      <td>Washington St</td>\n",
       "      <td>42593</td>\n",
       "      <td>Subscriber</td>\n",
       "      <td>1900</td>\n",
       "      <td>1</td>\n",
       "      <td>February</td>\n",
       "      <td>Fri</td>\n",
       "      <td>21</td>\n",
       "      <td>13</td>\n",
       "      <td>120</td>\n",
       "    </tr>\n",
       "  </tbody>\n",
       "</table>\n",
       "</div>"
      ],
      "text/plain": [
       "       duration_sec              start_time               stop_time  \\\n",
       "3038            178 2020-02-04 18:54:41.561 2020-02-04 18:57:39.707   \n",
       "3694            976 2020-02-05 12:48:53.916 2020-02-05 13:05:09.981   \n",
       "8507            226 2020-02-12 07:47:17.171 2020-02-12 07:51:03.941   \n",
       "16074           378 2020-02-21 13:39:46.219 2020-02-21 13:46:04.617   \n",
       "\n",
       "      start_station_name end_station_name bike_id   user_type  birth_year  \\\n",
       "3038           Warren St    Grove St PATH   29496  Subscriber        1888   \n",
       "3694       Washington St    Washington St   42220  Subscriber        1900   \n",
       "8507       Grove St PATH        Warren St   42185  Subscriber        1888   \n",
       "16074      Grove St PATH    Washington St   42593  Subscriber        1900   \n",
       "\n",
       "      gender start_time_month_name start_time_weekday  start_time_day  \\\n",
       "3038       0              February                Tue               4   \n",
       "3694       1              February                Wed               5   \n",
       "8507       0              February                Wed              12   \n",
       "16074      1              February                Fri              21   \n",
       "\n",
       "       start_time_hour  rider_age  \n",
       "3038                18        132  \n",
       "3694                12        120  \n",
       "8507                 7        132  \n",
       "16074               13        120  "
      ]
     },
     "execution_count": 43,
     "metadata": {},
     "output_type": "execute_result"
    }
   ],
   "source": [
    "df[df['rider_age'] >=75]"
   ]
  },
  {
   "cell_type": "code",
   "execution_count": 44,
   "metadata": {},
   "outputs": [],
   "source": [
    "#drop ages more than 75\n",
    "df = df[df['rider_age'] <=75]"
   ]
  },
  {
   "cell_type": "code",
   "execution_count": 45,
   "metadata": {},
   "outputs": [
    {
     "data": {
      "text/plain": [
       "count    22956.000000\n",
       "mean        38.854853\n",
       "std         10.236920\n",
       "min         17.000000\n",
       "25%         31.000000\n",
       "50%         37.000000\n",
       "75%         44.000000\n",
       "max         73.000000\n",
       "Name: rider_age, dtype: float64"
      ]
     },
     "execution_count": 45,
     "metadata": {},
     "output_type": "execute_result"
    }
   ],
   "source": [
    "df.rider_age.describe()"
   ]
  },
  {
   "cell_type": "markdown",
   "metadata": {},
   "source": [
    "### Rider Age"
   ]
  },
  {
   "cell_type": "code",
   "execution_count": 46,
   "metadata": {},
   "outputs": [
    {
     "data": {
      "text/plain": [
       "count    22956.000000\n",
       "mean        38.854853\n",
       "std         10.236920\n",
       "min         17.000000\n",
       "25%         31.000000\n",
       "50%         37.000000\n",
       "75%         44.000000\n",
       "max         73.000000\n",
       "Name: rider_age, dtype: float64"
      ]
     },
     "execution_count": 46,
     "metadata": {},
     "output_type": "execute_result"
    }
   ],
   "source": [
    "df['rider_age'].describe()"
   ]
  },
  {
   "cell_type": "code",
   "execution_count": 47,
   "metadata": {},
   "outputs": [
    {
     "data": {
      "text/plain": [
       "Text(0.5, 1.0, 'Total trips vs Age')"
      ]
     },
     "execution_count": 47,
     "metadata": {},
     "output_type": "execute_result"
    },
    {
     "data": {
      "image/png": "[encoded data removed]",
      "text/plain": [
       "<Figure size 432x288 with 1 Axes>"
      ]
     },
     "metadata": {
      "needs_background": "light"
     },
     "output_type": "display_data"
    }
   ],
   "source": [
    "plt.hist(data = df, x = 'rider_age')\n",
    "plt.xlabel('rider_age')\n",
    "plt.ylabel('total trips')\n",
    "plt.title('Total trips vs Age')"
   ]
  },
  {
   "cell_type": "markdown",
   "metadata": {},
   "source": [
    "#### Most riders born between 1975 and 1990 and rheir ages between 30 and 40"
   ]
  },
  {
   "cell_type": "markdown",
   "metadata": {},
   "source": [
    "### User Type"
   ]
  },
  {
   "cell_type": "markdown",
   "metadata": {},
   "source": [
    "#### Q. Does the above depend on if a user is a subscriber or customer?"
   ]
  },
  {
   "cell_type": "code",
   "execution_count": 48,
   "metadata": {},
   "outputs": [
    {
     "data": {
      "text/plain": [
       "Text(0.5, 1.0, 'Total trips vs User Type')"
      ]
     },
     "execution_count": 48,
     "metadata": {},
     "output_type": "execute_result"
    },
    {
     "data": {
      "image/png": "[encoded data removed]",
      "text/plain": [
       "<Figure size 432x288 with 1 Axes>"
      ]
     },
     "metadata": {
      "needs_background": "light"
     },
     "output_type": "display_data"
    }
   ],
   "source": [
    "base_color = sb.color_palette()[0]\n",
    "user_order = df['user_type'].value_counts().index\n",
    "sb.countplot(data= df, x = 'user_type', color = base_color, order = user_order)\n",
    "plt.xlabel('user type')\n",
    "plt.ylabel('Total trips')\n",
    "plt.title('Total trips vs User Type')"
   ]
  },
  {
   "cell_type": "markdown",
   "metadata": {},
   "source": [
    "#### Subscribers are renting more bikes than regular customers"
   ]
  },
  {
   "cell_type": "markdown",
   "metadata": {},
   "source": [
    "### Gender"
   ]
  },
  {
   "cell_type": "code",
   "execution_count": 49,
   "metadata": {},
   "outputs": [
    {
     "data": {
      "text/plain": [
       "Text(0.5, 1.0, 'Total trips vs gender')"
      ]
     },
     "execution_count": 49,
     "metadata": {},
     "output_type": "execute_result"
    },
    {
     "data": {
      "image/png": "[encoded data removed]",
      "text/plain": [
       "<Figure size 432x288 with 1 Axes>"
      ]
     },
     "metadata": {
      "needs_background": "light"
     },
     "output_type": "display_data"
    }
   ],
   "source": [
    "base_color = sb.color_palette()[0]\n",
    "gender_order = df['gender'].value_counts().index\n",
    "sb.countplot(data= df, x = 'gender', color = base_color, order = gender_order)\n",
    "plt.xticks(rotation =90)\n",
    "plt.xlabel('gender')\n",
    "plt.ylabel('Total trips')\n",
    "plt.title('Total trips vs gender')"
   ]
  },
  {
   "cell_type": "markdown",
   "metadata": {},
   "source": [
    "#### Most riders are males"
   ]
  },
  {
   "cell_type": "markdown",
   "metadata": {},
   "source": [
    "### Top 10 Start Stations"
   ]
  },
  {
   "cell_type": "code",
   "execution_count": 50,
   "metadata": {},
   "outputs": [
    {
     "data": {
      "text/plain": [
       "Text(0.5, 1.0, 'Top Ten Start Station')"
      ]
     },
     "execution_count": 50,
     "metadata": {},
     "output_type": "execute_result"
    },
    {
     "data": {
      "image/png": "[encoded data removed]",
      "text/plain": [
       "<Figure size 1080x1080 with 1 Axes>"
      ]
     },
     "metadata": {
      "needs_background": "light"
     },
     "output_type": "display_data"
    }
   ],
   "source": [
    "top_start_station.plot.bar(figsize = (15,15))\n",
    "plt.xticks(rotation =90)\n",
    "plt.xlabel('Start station names')\n",
    "plt.ylabel('Total number of times bikes rented')\n",
    "plt.title('Top Ten Start Station')"
   ]
  },
  {
   "cell_type": "markdown",
   "metadata": {},
   "source": [
    "#### Visualization of top 10 start stations.\n",
    "Grove St PATH, Sip ave, and Hamilton Park places are the most popular stations where people get their bikes."
   ]
  },
  {
   "cell_type": "markdown",
   "metadata": {},
   "source": [
    "### Top 10 End Stations"
   ]
  },
  {
   "cell_type": "code",
   "execution_count": 51,
   "metadata": {},
   "outputs": [
    {
     "data": {
      "text/plain": [
       "Text(0.5, 1.0, 'Top Ten End Station')"
      ]
     },
     "execution_count": 51,
     "metadata": {},
     "output_type": "execute_result"
    },
    {
     "data": {
      "image/png": "[encoded data removed]",
      "text/plain": [
       "<Figure size 1080x1080 with 1 Axes>"
      ]
     },
     "metadata": {
      "needs_background": "light"
     },
     "output_type": "display_data"
    }
   ],
   "source": [
    "top_end_station.plot.bar(figsize = (15,15))\n",
    "plt.xticks(rotation =90)\n",
    "plt.xlabel('End station names')\n",
    "plt.ylabel('Total number of times bikes rented')\n",
    "plt.title('Top Ten End Station')"
   ]
  },
  {
   "cell_type": "markdown",
   "metadata": {},
   "source": [
    "#### Visualization of top 10 end stations.\n",
    "Grove St PATH, Sip ave, and Harborside places are the most popular stations where people return their bikes."
   ]
  },
  {
   "cell_type": "markdown",
   "metadata": {},
   "source": [
    "#### Q. How long does the average trip take?\n"
   ]
  },
  {
   "cell_type": "code",
   "execution_count": 52,
   "metadata": {},
   "outputs": [
    {
     "data": {
      "text/plain": [
       "585.5905645582855"
      ]
     },
     "execution_count": 52,
     "metadata": {},
     "output_type": "execute_result"
    }
   ],
   "source": [
    "df['duration_sec'].mean()"
   ]
  },
  {
   "cell_type": "markdown",
   "metadata": {},
   "source": [
    "#### The average trip takes 660 seconds which equals to 10 minutes"
   ]
  },
  {
   "cell_type": "code",
   "execution_count": 53,
   "metadata": {},
   "outputs": [
    {
     "data": {
      "text/html": [
       "<div>\n",
       "<style scoped>\n",
       "    .dataframe tbody tr th:only-of-type {\n",
       "        vertical-align: middle;\n",
       "    }\n",
       "\n",
       "    .dataframe tbody tr th {\n",
       "        vertical-align: top;\n",
       "    }\n",
       "\n",
       "    .dataframe thead th {\n",
       "        text-align: right;\n",
       "    }\n",
       "</style>\n",
       "<table border=\"1\" class=\"dataframe\">\n",
       "  <thead>\n",
       "    <tr style=\"text-align: right;\">\n",
       "      <th></th>\n",
       "      <th>duration_sec</th>\n",
       "      <th>start_time</th>\n",
       "      <th>stop_time</th>\n",
       "      <th>start_station_name</th>\n",
       "      <th>end_station_name</th>\n",
       "      <th>bike_id</th>\n",
       "      <th>user_type</th>\n",
       "      <th>birth_year</th>\n",
       "      <th>gender</th>\n",
       "      <th>start_time_month_name</th>\n",
       "      <th>start_time_weekday</th>\n",
       "      <th>start_time_day</th>\n",
       "      <th>start_time_hour</th>\n",
       "      <th>rider_age</th>\n",
       "    </tr>\n",
       "  </thead>\n",
       "  <tbody>\n",
       "    <tr>\n",
       "      <th>19204</th>\n",
       "      <td>290697</td>\n",
       "      <td>2020-02-25 07:16:57.800</td>\n",
       "      <td>2020-02-28 16:01:55.520</td>\n",
       "      <td>Lincoln Park</td>\n",
       "      <td>JCBS Depot</td>\n",
       "      <td>42326</td>\n",
       "      <td>Subscriber</td>\n",
       "      <td>1984</td>\n",
       "      <td>2</td>\n",
       "      <td>February</td>\n",
       "      <td>Tue</td>\n",
       "      <td>25</td>\n",
       "      <td>7</td>\n",
       "      <td>36</td>\n",
       "    </tr>\n",
       "    <tr>\n",
       "      <th>6293</th>\n",
       "      <td>245410</td>\n",
       "      <td>2020-02-08 21:55:24.948</td>\n",
       "      <td>2020-02-11 18:05:35.899</td>\n",
       "      <td>Sip Ave</td>\n",
       "      <td>Grove St PATH</td>\n",
       "      <td>42479</td>\n",
       "      <td>Customer</td>\n",
       "      <td>1996</td>\n",
       "      <td>1</td>\n",
       "      <td>February</td>\n",
       "      <td>Sat</td>\n",
       "      <td>8</td>\n",
       "      <td>21</td>\n",
       "      <td>24</td>\n",
       "    </tr>\n",
       "    <tr>\n",
       "      <th>12027</th>\n",
       "      <td>221936</td>\n",
       "      <td>2020-02-16 21:43:35.712</td>\n",
       "      <td>2020-02-19 11:22:32.337</td>\n",
       "      <td>Harborside</td>\n",
       "      <td>Dixon Mills</td>\n",
       "      <td>42369</td>\n",
       "      <td>Subscriber</td>\n",
       "      <td>1990</td>\n",
       "      <td>1</td>\n",
       "      <td>February</td>\n",
       "      <td>Sun</td>\n",
       "      <td>16</td>\n",
       "      <td>21</td>\n",
       "      <td>30</td>\n",
       "    </tr>\n",
       "    <tr>\n",
       "      <th>18466</th>\n",
       "      <td>197074</td>\n",
       "      <td>2020-02-24 10:03:17.788</td>\n",
       "      <td>2020-02-26 16:47:52.511</td>\n",
       "      <td>Newport Pkwy</td>\n",
       "      <td>Warren St</td>\n",
       "      <td>42178</td>\n",
       "      <td>Customer</td>\n",
       "      <td>1969</td>\n",
       "      <td>0</td>\n",
       "      <td>February</td>\n",
       "      <td>Mon</td>\n",
       "      <td>24</td>\n",
       "      <td>10</td>\n",
       "      <td>51</td>\n",
       "    </tr>\n",
       "    <tr>\n",
       "      <th>22840</th>\n",
       "      <td>157660</td>\n",
       "      <td>2020-02-29 16:48:59.735</td>\n",
       "      <td>2020-03-02 12:36:40.591</td>\n",
       "      <td>Marin Light Rail</td>\n",
       "      <td>Paulus Hook</td>\n",
       "      <td>42146</td>\n",
       "      <td>Customer</td>\n",
       "      <td>1983</td>\n",
       "      <td>1</td>\n",
       "      <td>February</td>\n",
       "      <td>Sat</td>\n",
       "      <td>29</td>\n",
       "      <td>16</td>\n",
       "      <td>37</td>\n",
       "    </tr>\n",
       "    <tr>\n",
       "      <th>22886</th>\n",
       "      <td>149410</td>\n",
       "      <td>2020-02-29 18:22:52.975</td>\n",
       "      <td>2020-03-02 11:53:03.380</td>\n",
       "      <td>Sip Ave</td>\n",
       "      <td>Leonard Gordon Park</td>\n",
       "      <td>42444</td>\n",
       "      <td>Customer</td>\n",
       "      <td>1969</td>\n",
       "      <td>0</td>\n",
       "      <td>February</td>\n",
       "      <td>Sat</td>\n",
       "      <td>29</td>\n",
       "      <td>18</td>\n",
       "      <td>51</td>\n",
       "    </tr>\n",
       "    <tr>\n",
       "      <th>8720</th>\n",
       "      <td>117897</td>\n",
       "      <td>2020-02-12 09:10:16.071</td>\n",
       "      <td>2020-02-13 17:55:13.933</td>\n",
       "      <td>Jersey &amp; 3rd</td>\n",
       "      <td>5 Corners Library</td>\n",
       "      <td>42586</td>\n",
       "      <td>Customer</td>\n",
       "      <td>1969</td>\n",
       "      <td>0</td>\n",
       "      <td>February</td>\n",
       "      <td>Wed</td>\n",
       "      <td>12</td>\n",
       "      <td>9</td>\n",
       "      <td>51</td>\n",
       "    </tr>\n",
       "    <tr>\n",
       "      <th>12597</th>\n",
       "      <td>95085</td>\n",
       "      <td>2020-02-17 17:08:51.167</td>\n",
       "      <td>2020-02-18 19:33:37.104</td>\n",
       "      <td>Sip Ave</td>\n",
       "      <td>City Hall</td>\n",
       "      <td>42113</td>\n",
       "      <td>Customer</td>\n",
       "      <td>1969</td>\n",
       "      <td>0</td>\n",
       "      <td>February</td>\n",
       "      <td>Mon</td>\n",
       "      <td>17</td>\n",
       "      <td>17</td>\n",
       "      <td>51</td>\n",
       "    </tr>\n",
       "    <tr>\n",
       "      <th>5409</th>\n",
       "      <td>90388</td>\n",
       "      <td>2020-02-07 16:52:42.455</td>\n",
       "      <td>2020-02-08 17:59:10.919</td>\n",
       "      <td>Warren St</td>\n",
       "      <td>Warren St</td>\n",
       "      <td>42447</td>\n",
       "      <td>Customer</td>\n",
       "      <td>1969</td>\n",
       "      <td>0</td>\n",
       "      <td>February</td>\n",
       "      <td>Fri</td>\n",
       "      <td>7</td>\n",
       "      <td>16</td>\n",
       "      <td>51</td>\n",
       "    </tr>\n",
       "    <tr>\n",
       "      <th>16170</th>\n",
       "      <td>89655</td>\n",
       "      <td>2020-02-21 16:21:03.700</td>\n",
       "      <td>2020-02-22 17:15:19.025</td>\n",
       "      <td>Hilltop</td>\n",
       "      <td>Hilltop</td>\n",
       "      <td>42621</td>\n",
       "      <td>Customer</td>\n",
       "      <td>1969</td>\n",
       "      <td>0</td>\n",
       "      <td>February</td>\n",
       "      <td>Fri</td>\n",
       "      <td>21</td>\n",
       "      <td>16</td>\n",
       "      <td>51</td>\n",
       "    </tr>\n",
       "  </tbody>\n",
       "</table>\n",
       "</div>"
      ],
      "text/plain": [
       "       duration_sec              start_time               stop_time  \\\n",
       "19204        290697 2020-02-25 07:16:57.800 2020-02-28 16:01:55.520   \n",
       "6293         245410 2020-02-08 21:55:24.948 2020-02-11 18:05:35.899   \n",
       "12027        221936 2020-02-16 21:43:35.712 2020-02-19 11:22:32.337   \n",
       "18466        197074 2020-02-24 10:03:17.788 2020-02-26 16:47:52.511   \n",
       "22840        157660 2020-02-29 16:48:59.735 2020-03-02 12:36:40.591   \n",
       "22886        149410 2020-02-29 18:22:52.975 2020-03-02 11:53:03.380   \n",
       "8720         117897 2020-02-12 09:10:16.071 2020-02-13 17:55:13.933   \n",
       "12597         95085 2020-02-17 17:08:51.167 2020-02-18 19:33:37.104   \n",
       "5409          90388 2020-02-07 16:52:42.455 2020-02-08 17:59:10.919   \n",
       "16170         89655 2020-02-21 16:21:03.700 2020-02-22 17:15:19.025   \n",
       "\n",
       "      start_station_name     end_station_name bike_id   user_type  birth_year  \\\n",
       "19204       Lincoln Park           JCBS Depot   42326  Subscriber        1984   \n",
       "6293             Sip Ave        Grove St PATH   42479    Customer        1996   \n",
       "12027         Harborside          Dixon Mills   42369  Subscriber        1990   \n",
       "18466       Newport Pkwy            Warren St   42178    Customer        1969   \n",
       "22840   Marin Light Rail          Paulus Hook   42146    Customer        1983   \n",
       "22886            Sip Ave  Leonard Gordon Park   42444    Customer        1969   \n",
       "8720        Jersey & 3rd    5 Corners Library   42586    Customer        1969   \n",
       "12597            Sip Ave            City Hall   42113    Customer        1969   \n",
       "5409           Warren St            Warren St   42447    Customer        1969   \n",
       "16170            Hilltop              Hilltop   42621    Customer        1969   \n",
       "\n",
       "      gender start_time_month_name start_time_weekday  start_time_day  \\\n",
       "19204      2              February                Tue              25   \n",
       "6293       1              February                Sat               8   \n",
       "12027      1              February                Sun              16   \n",
       "18466      0              February                Mon              24   \n",
       "22840      1              February                Sat              29   \n",
       "22886      0              February                Sat              29   \n",
       "8720       0              February                Wed              12   \n",
       "12597      0              February                Mon              17   \n",
       "5409       0              February                Fri               7   \n",
       "16170      0              February                Fri              21   \n",
       "\n",
       "       start_time_hour  rider_age  \n",
       "19204                7         36  \n",
       "6293                21         24  \n",
       "12027               21         30  \n",
       "18466               10         51  \n",
       "22840               16         37  \n",
       "22886               18         51  \n",
       "8720                 9         51  \n",
       "12597               17         51  \n",
       "5409                16         51  \n",
       "16170               16         51  "
      ]
     },
     "execution_count": 53,
     "metadata": {},
     "output_type": "execute_result"
    }
   ],
   "source": [
    "top_trips = df.nlargest(10, ['duration_sec'])\n",
    "top_trips"
   ]
  },
  {
   "cell_type": "markdown",
   "metadata": {},
   "source": [
    "## Bivariate Exploration\n"
   ]
  },
  {
   "cell_type": "markdown",
   "metadata": {},
   "source": [
    "Here, I will visualize two variables to see the differences or similarities between them. Therefore, I will be able to see the trends."
   ]
  },
  {
   "cell_type": "raw",
   "metadata": {},
   "source": [
    "#visualization of two variables\n",
    "Quantitative vs Quantitative = Scatterplots\n",
    "Quantitative vs Qualitative  = Violin plots"
   ]
  },
  {
   "cell_type": "markdown",
   "metadata": {},
   "source": [
    "### Trip Duration vs Age"
   ]
  },
  {
   "cell_type": "code",
   "execution_count": 54,
   "metadata": {},
   "outputs": [
    {
     "data": {
      "text/plain": [
       "Text(0, 0.5, 'Duration (sec)')"
      ]
     },
     "execution_count": 54,
     "metadata": {},
     "output_type": "execute_result"
    },
    {
     "data": {
      "image/png": "[encoded data removed]",
      "text/plain": [
       "<Figure size 1080x720 with 1 Axes>"
      ]
     },
     "metadata": {
      "needs_background": "light"
     },
     "output_type": "display_data"
    }
   ],
   "source": [
    "# let's do analysis on two variables (trip duration vs age)\n",
    "plt.figure(figsize = [15,10])\n",
    "sb.regplot(data = df, x = 'rider_age', y = 'duration_sec')\n",
    "plt.axis([10, 75, 500, 20000])\n",
    "plt.title('Trip duration vs Age')\n",
    "plt.xlabel('Rider Age')\n",
    "plt.ylabel('Duration (sec)')"
   ]
  },
  {
   "cell_type": "markdown",
   "metadata": {},
   "source": [
    "#### Those riders who are between 35 and 50 years old, take bikes for a long period of time."
   ]
  },
  {
   "cell_type": "code",
   "execution_count": 55,
   "metadata": {},
   "outputs": [
    {
     "name": "stdout",
     "output_type": "stream",
     "text": [
      "<class 'pandas.core.frame.DataFrame'>\n",
      "Int64Index: 22956 entries, 0 to 22961\n",
      "Data columns (total 14 columns):\n",
      " #   Column                 Non-Null Count  Dtype         \n",
      "---  ------                 --------------  -----         \n",
      " 0   duration_sec           22956 non-null  int64         \n",
      " 1   start_time             22956 non-null  datetime64[ns]\n",
      " 2   stop_time              22956 non-null  datetime64[ns]\n",
      " 3   start_station_name     22956 non-null  object        \n",
      " 4   end_station_name       22956 non-null  object        \n",
      " 5   bike_id                22956 non-null  object        \n",
      " 6   user_type              22956 non-null  object        \n",
      " 7   birth_year             22956 non-null  int64         \n",
      " 8   gender                 22956 non-null  category      \n",
      " 9   start_time_month_name  22956 non-null  object        \n",
      " 10  start_time_weekday     22956 non-null  object        \n",
      " 11  start_time_day         22956 non-null  int32         \n",
      " 12  start_time_hour        22956 non-null  int64         \n",
      " 13  rider_age              22956 non-null  int64         \n",
      "dtypes: category(1), datetime64[ns](2), int32(1), int64(4), object(6)\n",
      "memory usage: 3.0+ MB\n"
     ]
    }
   ],
   "source": [
    "df.info()"
   ]
  },
  {
   "cell_type": "markdown",
   "metadata": {},
   "source": [
    "### Rider Age vs Gender"
   ]
  },
  {
   "cell_type": "code",
   "execution_count": 56,
   "metadata": {},
   "outputs": [
    {
     "data": {
      "text/plain": [
       "(10.95778739278402, 79.74953094134327)"
      ]
     },
     "execution_count": 56,
     "metadata": {},
     "output_type": "execute_result"
    },
    {
     "data": {
      "image/png": "[encoded data removed]",
      "text/plain": [
       "<Figure size 1080x720 with 2 Axes>"
      ]
     },
     "metadata": {
      "needs_background": "light"
     },
     "output_type": "display_data"
    }
   ],
   "source": [
    "plt.figure(figsize = [15, 10])\n",
    "base_color = sb.color_palette()[0]\n",
    "\n",
    "# left plot: violin plot\n",
    "plt.subplot(1, 2, 1)\n",
    "ax1 = sb.violinplot(data = df, x = 'gender', y = 'rider_age', color = base_color)\n",
    "\n",
    "# right plot: box plot\n",
    "plt.subplot(1, 2, 2)\n",
    "sb.boxplot(data = df, x = 'gender', y = 'rider_age', color = base_color)\n",
    "plt.ylim(ax1.get_ylim()) \n"
   ]
  },
  {
   "cell_type": "markdown",
   "metadata": {},
   "source": [
    "#### The median age for both Males (1) and females (2) is 35 while the unknown gender is 50."
   ]
  },
  {
   "cell_type": "markdown",
   "metadata": {},
   "source": [
    "#### Plotting Summary Statistic"
   ]
  },
  {
   "cell_type": "code",
   "execution_count": 57,
   "metadata": {},
   "outputs": [
    {
     "data": {
      "text/plain": [
       "<matplotlib.axes._subplots.AxesSubplot at 0x29a43017730>"
      ]
     },
     "execution_count": 57,
     "metadata": {},
     "output_type": "execute_result"
    },
    {
     "data": {
      "image/png": "[encoded data removed]",
      "text/plain": [
       "<Figure size 720x360 with 1 Axes>"
      ]
     },
     "metadata": {
      "needs_background": "light"
     },
     "output_type": "display_data"
    }
   ],
   "source": [
    "plt.figure(figsize = [10, 5])\n",
    "base_color = sb.color_palette()[0]\n",
    "sb.violinplot(data = df, x = 'gender', y = 'rider_age', color = base_color,\n",
    "              inner = 'quartile')"
   ]
  },
  {
   "cell_type": "markdown",
   "metadata": {},
   "source": [
    "#### The median age for both Males (1) and females (2) is 35 while the unknown gender is 50."
   ]
  },
  {
   "cell_type": "markdown",
   "metadata": {},
   "source": [
    "### Rides Taken During the Week  by Gender"
   ]
  },
  {
   "cell_type": "code",
   "execution_count": 58,
   "metadata": {},
   "outputs": [
    {
     "data": {
      "text/plain": [
       "Text(0, 0.5, 'Total Rides')"
      ]
     },
     "execution_count": 58,
     "metadata": {},
     "output_type": "execute_result"
    },
    {
     "data": {
      "image/png": "[encoded data removed]",
      "text/plain": [
       "<Figure size 720x360 with 1 Axes>"
      ]
     },
     "metadata": {
      "needs_background": "light"
     },
     "output_type": "display_data"
    }
   ],
   "source": [
    "plt.figure(figsize = [10, 5])\n",
    "ax = sb.countplot(data = df, x = 'start_time_weekday', hue = 'gender')\n",
    "ax.legend(loc = 2, ncol = 3, framealpha = 1, title = 'Gender')\n",
    "plt.title('Rides during the Week by Gender')\n",
    "plt.xlabel('Days')\n",
    "plt.ylabel('Total Rides')"
   ]
  },
  {
   "cell_type": "markdown",
   "metadata": {},
   "source": [
    "#### Most males and females take Citi bikes on Wednesday or Tuesday while unknown gender takes bikes on Saturday or Sunday."
   ]
  },
  {
   "cell_type": "markdown",
   "metadata": {},
   "source": [
    "#### I have observed very interesting relationships between rider's age and gender, and total rides taken during the week by gender.\n",
    "- Most males and females tend to take Citi bikes on Wednesday. \n",
    "- Those riders who are between 35 and 50 years old, take bikes for a long period of time."
   ]
  },
  {
   "cell_type": "markdown",
   "metadata": {},
   "source": [
    "## Multivariate Exploration"
   ]
  },
  {
   "cell_type": "markdown",
   "metadata": {},
   "source": [
    "Visualizations of three of more variables\n",
    "- three numeric variables\n",
    "- two numeric variables and one categorical variable\n",
    "- one numeric variable and two categorical variables\n",
    "- three categorical variables"
   ]
  },
  {
   "cell_type": "markdown",
   "metadata": {},
   "source": [
    "### Riders' Age vs User Type by Gender"
   ]
  },
  {
   "cell_type": "code",
   "execution_count": 59,
   "metadata": {},
   "outputs": [
    {
     "data": {
      "text/plain": [
       "<seaborn.axisgrid.FacetGrid at 0x29a43673730>"
      ]
     },
     "execution_count": 59,
     "metadata": {},
     "output_type": "execute_result"
    },
    {
     "data": {
      "text/plain": [
       "<Figure size 720x720 with 0 Axes>"
      ]
     },
     "metadata": {},
     "output_type": "display_data"
    },
    {
     "data": {
      "image/png": "[encoded data removed]",
      "text/plain": [
       "<Figure size 864x288 with 3 Axes>"
      ]
     },
     "metadata": {
      "needs_background": "light"
     },
     "output_type": "display_data"
    }
   ],
   "source": [
    "plt.figure(figsize = [10, 10])\n",
    "g = sb.FacetGrid(data = df, col = 'gender', size = 4)\n",
    "g.map(sb.boxplot, 'user_type', 'rider_age')"
   ]
  },
  {
   "cell_type": "markdown",
   "metadata": {},
   "source": [
    "Most males and females are subscribers who are between 30 and 45, and the median age is 35. On the other hand, the unknown gender is the customer (age 40-50). "
   ]
  },
  {
   "cell_type": "markdown",
   "metadata": {},
   "source": [
    "### Riders' Age and Gender by User Type"
   ]
  },
  {
   "cell_type": "code",
   "execution_count": 60,
   "metadata": {},
   "outputs": [
    {
     "data": {
      "text/plain": [
       "<seaborn.axisgrid.FacetGrid at 0x29a4479c250>"
      ]
     },
     "execution_count": 60,
     "metadata": {},
     "output_type": "execute_result"
    },
    {
     "data": {
      "text/plain": [
       "<Figure size 720x720 with 0 Axes>"
      ]
     },
     "metadata": {},
     "output_type": "display_data"
    },
    {
     "data": {
      "image/png": "[encoded data removed]",
      "text/plain": [
       "<Figure size 576x288 with 2 Axes>"
      ]
     },
     "metadata": {
      "needs_background": "light"
     },
     "output_type": "display_data"
    }
   ],
   "source": [
    "plt.figure(figsize = [10, 10])\n",
    "g = sb.FacetGrid(data = df, col = 'user_type', size = 4)\n",
    "g.map(sb.boxplot, 'gender', 'rider_age')"
   ]
  },
  {
   "cell_type": "markdown",
   "metadata": {},
   "source": [
    "Both females and males prefer to get the annual membership."
   ]
  },
  {
   "cell_type": "markdown",
   "metadata": {},
   "source": [
    "### Weekly usage of Citi Bike per user type and gender"
   ]
  },
  {
   "cell_type": "code",
   "execution_count": 61,
   "metadata": {
    "scrolled": true
   },
   "outputs": [
    {
     "data": {
      "image/png": "[encoded data removed]",
      "text/plain": [
       "<Figure size 763.5x360 with 2 Axes>"
      ]
     },
     "metadata": {
      "needs_background": "light"
     },
     "output_type": "display_data"
    }
   ],
   "source": [
    "g = sb.catplot(data= df, x = 'start_time_weekday', col = 'user_type', hue= 'gender', kind = 'count', sharey= False)\n"
   ]
  },
  {
   "cell_type": "markdown",
   "metadata": {},
   "source": [
    "Customers tend to take bike on Saturday and Sunday while subscribers tend to take bike on Wednesday"
   ]
  },
  {
   "cell_type": "markdown",
   "metadata": {},
   "source": [
    "### Hourly usage of Citi Bike per user type and gender"
   ]
  },
  {
   "cell_type": "code",
   "execution_count": 62,
   "metadata": {},
   "outputs": [
    {
     "data": {
      "image/png": "[encoded data removed]",
      "text/plain": [
       "<Figure size 763.5x360 with 2 Axes>"
      ]
     },
     "metadata": {
      "needs_background": "light"
     },
     "output_type": "display_data"
    }
   ],
   "source": [
    "g = sb.catplot(data= df, x = 'start_time_hour', col = 'user_type', hue= 'gender', kind = 'count', sharey= False)\n"
   ]
  },
  {
   "cell_type": "markdown",
   "metadata": {},
   "source": [
    "Male customers take more bikes from 12 to 8 pm while male subscribers take bikes from 7 pm to 9 pm."
   ]
  },
  {
   "cell_type": "markdown",
   "metadata": {},
   "source": [
    "- https://www.citibikenyc.com/system-data\n",
    "- https://s3.amazonaws.com/tripdata/index.html\n",
    "- https://en.wikipedia.org/wiki/Citi_Bike"
   ]
  },
  {
   "cell_type": "code",
   "execution_count": null,
   "metadata": {},
   "outputs": [],
   "source": []
  }
 ],
 "metadata": {
  "kernelspec": {
   "display_name": "Python 3",
   "language": "python",
   "name": "python3"
  },
  "language_info": {
   "codemirror_mode": {
    "name": "ipython",
    "version": 3
   },
   "file_extension": ".py",
   "mimetype": "text/x-python",
   "name": "python",
   "nbconvert_exporter": "python",
   "pygments_lexer": "ipython3",
   "version": "3.8.2"
  }
 },
 "nbformat": 4,
 "nbformat_minor": 4
}
